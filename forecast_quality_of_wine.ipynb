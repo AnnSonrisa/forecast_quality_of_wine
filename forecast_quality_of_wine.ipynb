{
 "cells": [
  {
   "cell_type": "markdown",
   "id": "b7e68ed5",
   "metadata": {},
   "source": [
    "# Прогнозирование качества вина с использованием нейронных сетей"
   ]
  },
  {
   "cell_type": "markdown",
   "id": "f38d9f68",
   "metadata": {},
   "source": [
    "## Описание проекта\n",
    "Этот проект разработан для предсказания качества красного вина (оценка от 0 до 10) на основе его физико-химических характеристик. Используется нейронная сеть с регуляризацией и техниками для борьбы с переобучением."
   ]
  },
  {
   "cell_type": "markdown",
   "id": "5d1bc6ac",
   "metadata": {},
   "source": [
    "## Загрузка и анализ данных"
   ]
  },
  {
   "cell_type": "code",
   "execution_count": 1,
   "id": "3a5312c7",
   "metadata": {},
   "outputs": [
    {
     "name": "stdout",
     "output_type": "stream",
     "text": [
      "Requirement already satisfied: imbalanced-learn in /opt/conda/lib/python3.9/site-packages (0.12.4)\n",
      "Requirement already satisfied: threadpoolctl>=2.0.0 in /opt/conda/lib/python3.9/site-packages (from imbalanced-learn) (3.1.0)\n",
      "Requirement already satisfied: scipy>=1.5.0 in /opt/conda/lib/python3.9/site-packages (from imbalanced-learn) (1.9.1)\n",
      "Requirement already satisfied: scikit-learn>=1.0.2 in /opt/conda/lib/python3.9/site-packages (from imbalanced-learn) (1.6.1)\n",
      "Requirement already satisfied: numpy>=1.17.3 in /opt/conda/lib/python3.9/site-packages (from imbalanced-learn) (1.21.1)\n",
      "Requirement already satisfied: joblib>=1.1.1 in /opt/conda/lib/python3.9/site-packages (from imbalanced-learn) (1.5.1)\n",
      "Note: you may need to restart the kernel to use updated packages.\n"
     ]
    }
   ],
   "source": [
    "pip install imbalanced-learn"
   ]
  },
  {
   "cell_type": "code",
   "execution_count": 2,
   "id": "87ba5bc0",
   "metadata": {
    "scrolled": true
   },
   "outputs": [],
   "source": [
    "import pandas as pd\n",
    "import numpy as np\n",
    "import matplotlib.pyplot as plt\n",
    "import seaborn as sns\n",
    "from sklearn.model_selection import train_test_split\n",
    "from sklearn.metrics import r2_score, mean_absolute_error\n",
    "import tensorflow as tf\n",
    "from tensorflow.keras.models import Sequential\n",
    "from tensorflow.keras.layers import Dense, Dropout, BatchNormalization, GaussianDropout\n",
    "from tensorflow.keras.optimizers import Adam\n",
    "from tensorflow.keras.callbacks import EarlyStopping, ReduceLROnPlateau\n",
    "from tensorflow.keras.regularizers import l1_l2\n",
    "from keras.regularizers import l2\n",
    "from imblearn.over_sampling import SMOTE\n",
    "from sklearn.preprocessing import RobustScaler"
   ]
  },
  {
   "cell_type": "code",
   "execution_count": 3,
   "id": "e1eedcc3",
   "metadata": {},
   "outputs": [
    {
     "data": {
      "text/html": [
       "<div>\n",
       "<style scoped>\n",
       "    .dataframe tbody tr th:only-of-type {\n",
       "        vertical-align: middle;\n",
       "    }\n",
       "\n",
       "    .dataframe tbody tr th {\n",
       "        vertical-align: top;\n",
       "    }\n",
       "\n",
       "    .dataframe thead th {\n",
       "        text-align: right;\n",
       "    }\n",
       "</style>\n",
       "<table border=\"1\" class=\"dataframe\">\n",
       "  <thead>\n",
       "    <tr style=\"text-align: right;\">\n",
       "      <th></th>\n",
       "      <th>fixed acidity</th>\n",
       "      <th>volatile acidity</th>\n",
       "      <th>citric acid</th>\n",
       "      <th>residual sugar</th>\n",
       "      <th>chlorides</th>\n",
       "      <th>free sulfur dioxide</th>\n",
       "      <th>total sulfur dioxide</th>\n",
       "      <th>density</th>\n",
       "      <th>pH</th>\n",
       "      <th>sulphates</th>\n",
       "      <th>alcohol</th>\n",
       "      <th>quality</th>\n",
       "    </tr>\n",
       "  </thead>\n",
       "  <tbody>\n",
       "    <tr>\n",
       "      <th>0</th>\n",
       "      <td>7.4</td>\n",
       "      <td>0.70</td>\n",
       "      <td>0.00</td>\n",
       "      <td>1.9</td>\n",
       "      <td>0.076</td>\n",
       "      <td>11.0</td>\n",
       "      <td>34.0</td>\n",
       "      <td>0.9978</td>\n",
       "      <td>3.51</td>\n",
       "      <td>0.56</td>\n",
       "      <td>9.4</td>\n",
       "      <td>5</td>\n",
       "    </tr>\n",
       "    <tr>\n",
       "      <th>1</th>\n",
       "      <td>7.8</td>\n",
       "      <td>0.88</td>\n",
       "      <td>0.00</td>\n",
       "      <td>2.6</td>\n",
       "      <td>0.098</td>\n",
       "      <td>25.0</td>\n",
       "      <td>67.0</td>\n",
       "      <td>0.9968</td>\n",
       "      <td>3.20</td>\n",
       "      <td>0.68</td>\n",
       "      <td>9.8</td>\n",
       "      <td>5</td>\n",
       "    </tr>\n",
       "    <tr>\n",
       "      <th>2</th>\n",
       "      <td>7.8</td>\n",
       "      <td>0.76</td>\n",
       "      <td>0.04</td>\n",
       "      <td>2.3</td>\n",
       "      <td>0.092</td>\n",
       "      <td>15.0</td>\n",
       "      <td>54.0</td>\n",
       "      <td>0.9970</td>\n",
       "      <td>3.26</td>\n",
       "      <td>0.65</td>\n",
       "      <td>9.8</td>\n",
       "      <td>5</td>\n",
       "    </tr>\n",
       "    <tr>\n",
       "      <th>3</th>\n",
       "      <td>11.2</td>\n",
       "      <td>0.28</td>\n",
       "      <td>0.56</td>\n",
       "      <td>1.9</td>\n",
       "      <td>0.075</td>\n",
       "      <td>17.0</td>\n",
       "      <td>60.0</td>\n",
       "      <td>0.9980</td>\n",
       "      <td>3.16</td>\n",
       "      <td>0.58</td>\n",
       "      <td>9.8</td>\n",
       "      <td>6</td>\n",
       "    </tr>\n",
       "    <tr>\n",
       "      <th>4</th>\n",
       "      <td>7.4</td>\n",
       "      <td>0.70</td>\n",
       "      <td>0.00</td>\n",
       "      <td>1.9</td>\n",
       "      <td>0.076</td>\n",
       "      <td>11.0</td>\n",
       "      <td>34.0</td>\n",
       "      <td>0.9978</td>\n",
       "      <td>3.51</td>\n",
       "      <td>0.56</td>\n",
       "      <td>9.4</td>\n",
       "      <td>5</td>\n",
       "    </tr>\n",
       "  </tbody>\n",
       "</table>\n",
       "</div>"
      ],
      "text/plain": [
       "   fixed acidity  volatile acidity  citric acid  residual sugar  chlorides  \\\n",
       "0            7.4              0.70         0.00             1.9      0.076   \n",
       "1            7.8              0.88         0.00             2.6      0.098   \n",
       "2            7.8              0.76         0.04             2.3      0.092   \n",
       "3           11.2              0.28         0.56             1.9      0.075   \n",
       "4            7.4              0.70         0.00             1.9      0.076   \n",
       "\n",
       "   free sulfur dioxide  total sulfur dioxide  density    pH  sulphates  \\\n",
       "0                 11.0                  34.0   0.9978  3.51       0.56   \n",
       "1                 25.0                  67.0   0.9968  3.20       0.68   \n",
       "2                 15.0                  54.0   0.9970  3.26       0.65   \n",
       "3                 17.0                  60.0   0.9980  3.16       0.58   \n",
       "4                 11.0                  34.0   0.9978  3.51       0.56   \n",
       "\n",
       "   alcohol  quality  \n",
       "0      9.4        5  \n",
       "1      9.8        5  \n",
       "2      9.8        5  \n",
       "3      9.8        6  \n",
       "4      9.4        5  "
      ]
     },
     "execution_count": 3,
     "metadata": {},
     "output_type": "execute_result"
    }
   ],
   "source": [
    "# Загрузка данных о качестве красного вина\n",
    "url = \"https://archive.ics.uci.edu/ml/machine-learning-databases/wine-quality/winequality-red.csv\"\n",
    "data = pd.read_csv(url, sep=';')\n",
    "\n",
    "# Просмотр первых строк данных\n",
    "data.head()"
   ]
  },
  {
   "cell_type": "code",
   "execution_count": 4,
   "id": "a34a25a1",
   "metadata": {},
   "outputs": [
    {
     "name": "stdout",
     "output_type": "stream",
     "text": [
      "<class 'pandas.core.frame.DataFrame'>\n",
      "RangeIndex: 1599 entries, 0 to 1598\n",
      "Data columns (total 12 columns):\n",
      " #   Column                Non-Null Count  Dtype  \n",
      "---  ------                --------------  -----  \n",
      " 0   fixed acidity         1599 non-null   float64\n",
      " 1   volatile acidity      1599 non-null   float64\n",
      " 2   citric acid           1599 non-null   float64\n",
      " 3   residual sugar        1599 non-null   float64\n",
      " 4   chlorides             1599 non-null   float64\n",
      " 5   free sulfur dioxide   1599 non-null   float64\n",
      " 6   total sulfur dioxide  1599 non-null   float64\n",
      " 7   density               1599 non-null   float64\n",
      " 8   pH                    1599 non-null   float64\n",
      " 9   sulphates             1599 non-null   float64\n",
      " 10  alcohol               1599 non-null   float64\n",
      " 11  quality               1599 non-null   int64  \n",
      "dtypes: float64(11), int64(1)\n",
      "memory usage: 150.0 KB\n"
     ]
    }
   ],
   "source": [
    "data.info()"
   ]
  },
  {
   "cell_type": "code",
   "execution_count": 5,
   "id": "dfd678cb",
   "metadata": {},
   "outputs": [
    {
     "data": {
      "image/png": "[encoded data removed]",
      "text/plain": [
       "<Figure size 576x360 with 1 Axes>"
      ]
     },
     "metadata": {
      "needs_background": "light"
     },
     "output_type": "display_data"
    }
   ],
   "source": [
    "# Анализ распределения целевой переменной (quality)\n",
    "plt.figure(figsize=(8, 5))\n",
    "sns.countplot(x='quality', data=data)\n",
    "plt.title('Распределение качества вина')\n",
    "plt.show()"
   ]
  },
  {
   "cell_type": "markdown",
   "id": "6e8b9c4e",
   "metadata": {},
   "source": [
    "По распределению качества вина видно, что больше всего сортов вин с качеством = 5, меньше всего - с качеством = 3"
   ]
  },
  {
   "cell_type": "code",
   "execution_count": 6,
   "id": "dcced780",
   "metadata": {},
   "outputs": [
    {
     "data": {
      "image/png": "[encoded data removed]",
      "text/plain": [
       "<Figure size 864x576 with 2 Axes>"
      ]
     },
     "metadata": {
      "needs_background": "light"
     },
     "output_type": "display_data"
    }
   ],
   "source": [
    "# Анализ корреляций\n",
    "plt.figure(figsize=(12, 8))\n",
    "sns.heatmap(data.corr(), annot=True, cmap='coolwarm')\n",
    "plt.title('Матрица корреляций')\n",
    "plt.show()"
   ]
  },
  {
   "cell_type": "markdown",
   "id": "54af1966",
   "metadata": {},
   "source": [
    "Сильнее всего корреллируют значения признаков citric acid и fixed acidity (0.67)\n",
    "\n",
    "Фиксированная кислотность (fixed acidity) — это суммарный показатель всех кислот в вине, лимонная кислота (citric acid) - это одна из органических кислот, входящих в состав вина наряду с винной, яблочной и другими.\n",
    "\n",
    "Корреляция 0.67 означает, что лимонная кислота вносит значимый вклад в общую кислотность, но не является единственным её компонентом."
   ]
  },
  {
   "cell_type": "code",
   "execution_count": 7,
   "id": "ce3fbcab",
   "metadata": {},
   "outputs": [
    {
     "data": {
      "text/plain": [
       "fixed acidity           0\n",
       "volatile acidity        0\n",
       "citric acid             0\n",
       "residual sugar          0\n",
       "chlorides               0\n",
       "free sulfur dioxide     0\n",
       "total sulfur dioxide    0\n",
       "density                 0\n",
       "pH                      0\n",
       "sulphates               0\n",
       "alcohol                 0\n",
       "quality                 0\n",
       "dtype: int64"
      ]
     },
     "execution_count": 7,
     "metadata": {},
     "output_type": "execute_result"
    }
   ],
   "source": [
    "# Проверка на пропущенные значения\n",
    "data.isnull().sum()"
   ]
  },
  {
   "cell_type": "code",
   "execution_count": 8,
   "id": "62c20b7c",
   "metadata": {},
   "outputs": [
    {
     "data": {
      "text/plain": [
       "fixed acidity           0\n",
       "volatile acidity        0\n",
       "citric acid             0\n",
       "residual sugar          0\n",
       "chlorides               0\n",
       "free sulfur dioxide     0\n",
       "total sulfur dioxide    0\n",
       "density                 0\n",
       "pH                      0\n",
       "sulphates               0\n",
       "alcohol                 0\n",
       "quality                 0\n",
       "dtype: int64"
      ]
     },
     "execution_count": 8,
     "metadata": {},
     "output_type": "execute_result"
    }
   ],
   "source": [
    "data.isna().sum()"
   ]
  },
  {
   "cell_type": "markdown",
   "id": "d3f92c1d",
   "metadata": {},
   "source": [
    "Пропущенные значения не обнаружены."
   ]
  },
  {
   "cell_type": "code",
   "execution_count": 9,
   "id": "6a877bf9",
   "metadata": {},
   "outputs": [
    {
     "data": {
      "image/png": "[encoded data removed]",
      "text/plain": [
       "<Figure size 1080x720 with 1 Axes>"
      ]
     },
     "metadata": {
      "needs_background": "light"
     },
     "output_type": "display_data"
    }
   ],
   "source": [
    "# Анализ выбросов\n",
    "plt.figure(figsize=(15, 10))\n",
    "data.boxplot()\n",
    "plt.xticks(rotation=45)\n",
    "plt.title('Ящики с усами для выявления выбросов')\n",
    "plt.show()"
   ]
  },
  {
   "cell_type": "markdown",
   "id": "bbf3757b",
   "metadata": {},
   "source": [
    "У признаков free sulfur dioxide и total sulfur dioxide аномально высокие выбросы, множество точек выше верхнего \"уса\" (особенно у total sulfur dioxide)."
   ]
  },
  {
   "cell_type": "markdown",
   "id": "3957338e",
   "metadata": {},
   "source": [
    "Изучив информацию про содержание диоксида серы в винах, пришла к выводу:\n",
    "\n",
    "    - для сухих вин (residual sugar < 10)  free sulfur dioxide должен быть больше 1 и меньше 60 (риск серного привкуса), а total sulfur dioxide должен быть больше 10 и меньше 200;\n",
    "    - для сладких вин (residual sugar >= 10) free sulfur dioxide должно быть больше 150, а total sulfur dioxide должно быть меньше 400;"
   ]
  },
  {
   "cell_type": "markdown",
   "id": "289c6a03",
   "metadata": {},
   "source": [
    "## Предобработка данных"
   ]
  },
  {
   "cell_type": "code",
   "execution_count": 10,
   "id": "f9dbe41e",
   "metadata": {},
   "outputs": [],
   "source": [
    "def remove_scientific_outliers(data):\n",
    "    limits = {\n",
    "        'fixed acidity': (4.0, 12.0),\n",
    "        'volatile acidity': (0.1, 1.2),\n",
    "        'citric acid': (0.0, 1.0),\n",
    "        'residual sugar': (0.5, 30.0),\n",
    "        'chlorides': (0.01, 0.2),\n",
    "        'free sulfur dioxide': (1, 100),\n",
    "        'total sulfur dioxide': (10, 200),\n",
    "        'density': (0.98, 1.05),\n",
    "        'pH': (2.8, 4.0),\n",
    "        'sulphates': (0.3, 1.5),\n",
    "        'alcohol': (8.0, 15.0)\n",
    "    }\n",
    "    for feature, (min_val, max_val) in limits.items():\n",
    "        data = data[(data[feature] >= min_val) & (data[feature] <= max_val)]\n",
    "    return data"
   ]
  },
  {
   "cell_type": "code",
   "execution_count": 11,
   "id": "e317fe35",
   "metadata": {},
   "outputs": [
    {
     "data": {
      "text/html": [
       "<div>\n",
       "<style scoped>\n",
       "    .dataframe tbody tr th:only-of-type {\n",
       "        vertical-align: middle;\n",
       "    }\n",
       "\n",
       "    .dataframe tbody tr th {\n",
       "        vertical-align: top;\n",
       "    }\n",
       "\n",
       "    .dataframe thead th {\n",
       "        text-align: right;\n",
       "    }\n",
       "</style>\n",
       "<table border=\"1\" class=\"dataframe\">\n",
       "  <thead>\n",
       "    <tr style=\"text-align: right;\">\n",
       "      <th></th>\n",
       "      <th>fixed acidity</th>\n",
       "      <th>volatile acidity</th>\n",
       "      <th>citric acid</th>\n",
       "      <th>residual sugar</th>\n",
       "      <th>chlorides</th>\n",
       "      <th>free sulfur dioxide</th>\n",
       "      <th>total sulfur dioxide</th>\n",
       "      <th>density</th>\n",
       "      <th>pH</th>\n",
       "      <th>sulphates</th>\n",
       "      <th>alcohol</th>\n",
       "      <th>quality</th>\n",
       "    </tr>\n",
       "  </thead>\n",
       "  <tbody>\n",
       "    <tr>\n",
       "      <th>0</th>\n",
       "      <td>7.4</td>\n",
       "      <td>0.700</td>\n",
       "      <td>0.00</td>\n",
       "      <td>1.9</td>\n",
       "      <td>0.076</td>\n",
       "      <td>11.0</td>\n",
       "      <td>34.0</td>\n",
       "      <td>0.99780</td>\n",
       "      <td>3.51</td>\n",
       "      <td>0.56</td>\n",
       "      <td>9.4</td>\n",
       "      <td>5</td>\n",
       "    </tr>\n",
       "    <tr>\n",
       "      <th>1</th>\n",
       "      <td>7.8</td>\n",
       "      <td>0.880</td>\n",
       "      <td>0.00</td>\n",
       "      <td>2.6</td>\n",
       "      <td>0.098</td>\n",
       "      <td>25.0</td>\n",
       "      <td>67.0</td>\n",
       "      <td>0.99680</td>\n",
       "      <td>3.20</td>\n",
       "      <td>0.68</td>\n",
       "      <td>9.8</td>\n",
       "      <td>5</td>\n",
       "    </tr>\n",
       "    <tr>\n",
       "      <th>2</th>\n",
       "      <td>7.8</td>\n",
       "      <td>0.760</td>\n",
       "      <td>0.04</td>\n",
       "      <td>2.3</td>\n",
       "      <td>0.092</td>\n",
       "      <td>15.0</td>\n",
       "      <td>54.0</td>\n",
       "      <td>0.99700</td>\n",
       "      <td>3.26</td>\n",
       "      <td>0.65</td>\n",
       "      <td>9.8</td>\n",
       "      <td>5</td>\n",
       "    </tr>\n",
       "    <tr>\n",
       "      <th>3</th>\n",
       "      <td>11.2</td>\n",
       "      <td>0.280</td>\n",
       "      <td>0.56</td>\n",
       "      <td>1.9</td>\n",
       "      <td>0.075</td>\n",
       "      <td>17.0</td>\n",
       "      <td>60.0</td>\n",
       "      <td>0.99800</td>\n",
       "      <td>3.16</td>\n",
       "      <td>0.58</td>\n",
       "      <td>9.8</td>\n",
       "      <td>6</td>\n",
       "    </tr>\n",
       "    <tr>\n",
       "      <th>4</th>\n",
       "      <td>7.4</td>\n",
       "      <td>0.700</td>\n",
       "      <td>0.00</td>\n",
       "      <td>1.9</td>\n",
       "      <td>0.076</td>\n",
       "      <td>11.0</td>\n",
       "      <td>34.0</td>\n",
       "      <td>0.99780</td>\n",
       "      <td>3.51</td>\n",
       "      <td>0.56</td>\n",
       "      <td>9.4</td>\n",
       "      <td>5</td>\n",
       "    </tr>\n",
       "    <tr>\n",
       "      <th>...</th>\n",
       "      <td>...</td>\n",
       "      <td>...</td>\n",
       "      <td>...</td>\n",
       "      <td>...</td>\n",
       "      <td>...</td>\n",
       "      <td>...</td>\n",
       "      <td>...</td>\n",
       "      <td>...</td>\n",
       "      <td>...</td>\n",
       "      <td>...</td>\n",
       "      <td>...</td>\n",
       "      <td>...</td>\n",
       "    </tr>\n",
       "    <tr>\n",
       "      <th>1594</th>\n",
       "      <td>6.2</td>\n",
       "      <td>0.600</td>\n",
       "      <td>0.08</td>\n",
       "      <td>2.0</td>\n",
       "      <td>0.090</td>\n",
       "      <td>32.0</td>\n",
       "      <td>44.0</td>\n",
       "      <td>0.99490</td>\n",
       "      <td>3.45</td>\n",
       "      <td>0.58</td>\n",
       "      <td>10.5</td>\n",
       "      <td>5</td>\n",
       "    </tr>\n",
       "    <tr>\n",
       "      <th>1595</th>\n",
       "      <td>5.9</td>\n",
       "      <td>0.550</td>\n",
       "      <td>0.10</td>\n",
       "      <td>2.2</td>\n",
       "      <td>0.062</td>\n",
       "      <td>39.0</td>\n",
       "      <td>51.0</td>\n",
       "      <td>0.99512</td>\n",
       "      <td>3.52</td>\n",
       "      <td>0.76</td>\n",
       "      <td>11.2</td>\n",
       "      <td>6</td>\n",
       "    </tr>\n",
       "    <tr>\n",
       "      <th>1596</th>\n",
       "      <td>6.3</td>\n",
       "      <td>0.510</td>\n",
       "      <td>0.13</td>\n",
       "      <td>2.3</td>\n",
       "      <td>0.076</td>\n",
       "      <td>29.0</td>\n",
       "      <td>40.0</td>\n",
       "      <td>0.99574</td>\n",
       "      <td>3.42</td>\n",
       "      <td>0.75</td>\n",
       "      <td>11.0</td>\n",
       "      <td>6</td>\n",
       "    </tr>\n",
       "    <tr>\n",
       "      <th>1597</th>\n",
       "      <td>5.9</td>\n",
       "      <td>0.645</td>\n",
       "      <td>0.12</td>\n",
       "      <td>2.0</td>\n",
       "      <td>0.075</td>\n",
       "      <td>32.0</td>\n",
       "      <td>44.0</td>\n",
       "      <td>0.99547</td>\n",
       "      <td>3.57</td>\n",
       "      <td>0.71</td>\n",
       "      <td>10.2</td>\n",
       "      <td>5</td>\n",
       "    </tr>\n",
       "    <tr>\n",
       "      <th>1598</th>\n",
       "      <td>6.0</td>\n",
       "      <td>0.310</td>\n",
       "      <td>0.47</td>\n",
       "      <td>3.6</td>\n",
       "      <td>0.067</td>\n",
       "      <td>18.0</td>\n",
       "      <td>42.0</td>\n",
       "      <td>0.99549</td>\n",
       "      <td>3.39</td>\n",
       "      <td>0.66</td>\n",
       "      <td>11.0</td>\n",
       "      <td>6</td>\n",
       "    </tr>\n",
       "  </tbody>\n",
       "</table>\n",
       "<p>1454 rows × 12 columns</p>\n",
       "</div>"
      ],
      "text/plain": [
       "      fixed acidity  volatile acidity  citric acid  residual sugar  chlorides  \\\n",
       "0               7.4             0.700         0.00             1.9      0.076   \n",
       "1               7.8             0.880         0.00             2.6      0.098   \n",
       "2               7.8             0.760         0.04             2.3      0.092   \n",
       "3              11.2             0.280         0.56             1.9      0.075   \n",
       "4               7.4             0.700         0.00             1.9      0.076   \n",
       "...             ...               ...          ...             ...        ...   \n",
       "1594            6.2             0.600         0.08             2.0      0.090   \n",
       "1595            5.9             0.550         0.10             2.2      0.062   \n",
       "1596            6.3             0.510         0.13             2.3      0.076   \n",
       "1597            5.9             0.645         0.12             2.0      0.075   \n",
       "1598            6.0             0.310         0.47             3.6      0.067   \n",
       "\n",
       "      free sulfur dioxide  total sulfur dioxide  density    pH  sulphates  \\\n",
       "0                    11.0                  34.0  0.99780  3.51       0.56   \n",
       "1                    25.0                  67.0  0.99680  3.20       0.68   \n",
       "2                    15.0                  54.0  0.99700  3.26       0.65   \n",
       "3                    17.0                  60.0  0.99800  3.16       0.58   \n",
       "4                    11.0                  34.0  0.99780  3.51       0.56   \n",
       "...                   ...                   ...      ...   ...        ...   \n",
       "1594                 32.0                  44.0  0.99490  3.45       0.58   \n",
       "1595                 39.0                  51.0  0.99512  3.52       0.76   \n",
       "1596                 29.0                  40.0  0.99574  3.42       0.75   \n",
       "1597                 32.0                  44.0  0.99547  3.57       0.71   \n",
       "1598                 18.0                  42.0  0.99549  3.39       0.66   \n",
       "\n",
       "      alcohol  quality  \n",
       "0         9.4        5  \n",
       "1         9.8        5  \n",
       "2         9.8        5  \n",
       "3         9.8        6  \n",
       "4         9.4        5  \n",
       "...       ...      ...  \n",
       "1594     10.5        5  \n",
       "1595     11.2        6  \n",
       "1596     11.0        6  \n",
       "1597     10.2        5  \n",
       "1598     11.0        6  \n",
       "\n",
       "[1454 rows x 12 columns]"
      ]
     },
     "execution_count": 11,
     "metadata": {},
     "output_type": "execute_result"
    }
   ],
   "source": [
    "remove_scientific_outliers(data)"
   ]
  },
  {
   "cell_type": "markdown",
   "id": "e099e7ad",
   "metadata": {},
   "source": [
    "### Создание новых признаков"
   ]
  },
  {
   "cell_type": "code",
   "execution_count": 12,
   "id": "b8d3d8d2",
   "metadata": {},
   "outputs": [],
   "source": [
    "data['acid_ratio'] = data['citric acid'] / (data['volatile acidity'] + 1e-6)\n",
    "data['sulfur_balance'] = data['free sulfur dioxide'] / (data['total sulfur dioxide'] + 1e-6)\n",
    "data['alcohol_to_acid'] = data['alcohol'] / (data['fixed acidity'] + 1e-6)"
   ]
  },
  {
   "cell_type": "markdown",
   "id": "15fd7161",
   "metadata": {},
   "source": [
    "### Разделение на признаки и целевую переменную"
   ]
  },
  {
   "cell_type": "code",
   "execution_count": 32,
   "id": "a5e72e5f",
   "metadata": {},
   "outputs": [],
   "source": [
    "X = data.drop('quality', axis=1)\n",
    "y = data['quality']"
   ]
  },
  {
   "cell_type": "markdown",
   "id": "ca95a9dc",
   "metadata": {},
   "source": [
    "### Балансировка данных (для редких классов качества)"
   ]
  },
  {
   "cell_type": "code",
   "execution_count": 33,
   "id": "4b93cb42",
   "metadata": {},
   "outputs": [
    {
     "name": "stderr",
     "output_type": "stream",
     "text": [
      "/opt/conda/lib/python3.9/site-packages/sklearn/base.py:474: FutureWarning: `BaseEstimator._validate_data` is deprecated in 1.6 and will be removed in 1.7. Use `sklearn.utils.validation.validate_data` instead. This function becomes public and is part of the scikit-learn developer API.\n",
      "  warnings.warn(\n"
     ]
    }
   ],
   "source": [
    "smote = SMOTE(k_neighbors=3)\n",
    "X, y = smote.fit_resample(X, y)"
   ]
  },
  {
   "cell_type": "markdown",
   "id": "a1ebba3c",
   "metadata": {},
   "source": [
    "### Разделение на обучающую и тестовую выборки"
   ]
  },
  {
   "cell_type": "code",
   "execution_count": 15,
   "id": "204375e5",
   "metadata": {},
   "outputs": [],
   "source": [
    "# Разделение на обучающую и тестовую выборки\n",
    "X_train, X_test, y_train, y_test = train_test_split(X, y, test_size=0.2, random_state=42)"
   ]
  },
  {
   "cell_type": "markdown",
   "id": "f112aa54",
   "metadata": {},
   "source": [
    "### Нормализация данных"
   ]
  },
  {
   "cell_type": "code",
   "execution_count": 16,
   "id": "6714fc38",
   "metadata": {},
   "outputs": [],
   "source": [
    "# Нормализация данных\n",
    "scaler = RobustScaler()\n",
    "X_train = scaler.fit_transform(X_train)\n",
    "X_test = scaler.transform(X_test)"
   ]
  },
  {
   "cell_type": "markdown",
   "id": "adf10534",
   "metadata": {},
   "source": [
    "## Создание и обучение модели"
   ]
  },
  {
   "cell_type": "markdown",
   "id": "48188e9b",
   "metadata": {},
   "source": [
    "### Создание модели"
   ]
  },
  {
   "cell_type": "code",
   "execution_count": 20,
   "id": "2df822ba",
   "metadata": {},
   "outputs": [
    {
     "name": "stderr",
     "output_type": "stream",
     "text": [
      "2025-06-26 16:23:44.048906: I tensorflow/core/platform/cpu_feature_guard.cc:151] This TensorFlow binary is optimized with oneAPI Deep Neural Network Library (oneDNN) to use the following CPU instructions in performance-critical operations:  AVX2 AVX512F FMA\n",
      "To enable them in other operations, rebuild TensorFlow with the appropriate compiler flags.\n"
     ]
    },
    {
     "name": "stdout",
     "output_type": "stream",
     "text": [
      "Epoch 1/100\n",
      "41/41 [==============================] - 2s 12ms/step - loss: 47.3667 - mae: 5.8425 - val_loss: 43.3011 - val_mae: 5.5740 - lr: 1.0000e-04\n",
      "Epoch 2/100\n",
      "41/41 [==============================] - 0s 7ms/step - loss: 44.8707 - mae: 5.6609 - val_loss: 42.1037 - val_mae: 5.4814 - lr: 1.0000e-04\n",
      "Epoch 3/100\n",
      "41/41 [==============================] - 0s 6ms/step - loss: 41.8281 - mae: 5.4361 - val_loss: 40.6849 - val_mae: 5.3692 - lr: 1.0000e-04\n",
      "Epoch 4/100\n",
      "41/41 [==============================] - 0s 6ms/step - loss: 39.6265 - mae: 5.2628 - val_loss: 39.0355 - val_mae: 5.2356 - lr: 1.0000e-04\n",
      "Epoch 5/100\n",
      "41/41 [==============================] - 0s 7ms/step - loss: 36.9951 - mae: 5.0409 - val_loss: 37.0096 - val_mae: 5.0631 - lr: 1.0000e-04\n",
      "Epoch 6/100\n",
      "41/41 [==============================] - 0s 6ms/step - loss: 34.6904 - mae: 4.8260 - val_loss: 34.5979 - val_mae: 4.8492 - lr: 1.0000e-04\n",
      "Epoch 7/100\n",
      "41/41 [==============================] - 0s 7ms/step - loss: 32.3392 - mae: 4.5963 - val_loss: 31.8700 - val_mae: 4.5919 - lr: 1.0000e-04\n",
      "Epoch 8/100\n",
      "41/41 [==============================] - 0s 6ms/step - loss: 29.8987 - mae: 4.3396 - val_loss: 29.0217 - val_mae: 4.3031 - lr: 1.0000e-04\n",
      "Epoch 9/100\n",
      "41/41 [==============================] - 0s 7ms/step - loss: 27.6013 - mae: 4.0854 - val_loss: 26.1606 - val_mae: 3.9820 - lr: 1.0000e-04\n",
      "Epoch 10/100\n",
      "41/41 [==============================] - 0s 6ms/step - loss: 25.5016 - mae: 3.8062 - val_loss: 23.6316 - val_mae: 3.6643 - lr: 1.0000e-04\n",
      "Epoch 11/100\n",
      "41/41 [==============================] - 0s 6ms/step - loss: 23.4297 - mae: 3.5365 - val_loss: 21.3967 - val_mae: 3.3491 - lr: 1.0000e-04\n",
      "Epoch 12/100\n",
      "41/41 [==============================] - 0s 6ms/step - loss: 21.9232 - mae: 3.3125 - val_loss: 19.4699 - val_mae: 3.0410 - lr: 1.0000e-04\n",
      "Epoch 13/100\n",
      "41/41 [==============================] - 0s 6ms/step - loss: 20.2509 - mae: 3.0655 - val_loss: 17.8133 - val_mae: 2.7409 - lr: 1.0000e-04\n",
      "Epoch 14/100\n",
      "41/41 [==============================] - 0s 6ms/step - loss: 18.9574 - mae: 2.8401 - val_loss: 16.3970 - val_mae: 2.4709 - lr: 1.0000e-04\n",
      "Epoch 15/100\n",
      "41/41 [==============================] - 0s 7ms/step - loss: 17.7225 - mae: 2.6270 - val_loss: 15.3006 - val_mae: 2.2462 - lr: 1.0000e-04\n",
      "Epoch 16/100\n",
      "41/41 [==============================] - 0s 7ms/step - loss: 16.5933 - mae: 2.4320 - val_loss: 14.4102 - val_mae: 2.0495 - lr: 1.0000e-04\n",
      "Epoch 17/100\n",
      "41/41 [==============================] - 0s 6ms/step - loss: 16.0474 - mae: 2.3160 - val_loss: 13.6186 - val_mae: 1.8636 - lr: 1.0000e-04\n",
      "Epoch 18/100\n",
      "41/41 [==============================] - 0s 5ms/step - loss: 15.0093 - mae: 2.1349 - val_loss: 12.9777 - val_mae: 1.7131 - lr: 1.0000e-04\n",
      "Epoch 19/100\n",
      "41/41 [==============================] - 0s 6ms/step - loss: 14.4978 - mae: 2.0322 - val_loss: 12.4590 - val_mae: 1.5930 - lr: 1.0000e-04\n",
      "Epoch 20/100\n",
      "41/41 [==============================] - 0s 7ms/step - loss: 14.0951 - mae: 1.9424 - val_loss: 11.9983 - val_mae: 1.4812 - lr: 1.0000e-04\n",
      "Epoch 21/100\n",
      "41/41 [==============================] - 0s 6ms/step - loss: 13.6360 - mae: 1.8572 - val_loss: 11.5725 - val_mae: 1.3753 - lr: 1.0000e-04\n",
      "Epoch 22/100\n",
      "41/41 [==============================] - 0s 7ms/step - loss: 13.1944 - mae: 1.7649 - val_loss: 11.1924 - val_mae: 1.2795 - lr: 1.0000e-04\n",
      "Epoch 23/100\n",
      "41/41 [==============================] - 0s 6ms/step - loss: 12.7430 - mae: 1.6817 - val_loss: 10.8774 - val_mae: 1.2049 - lr: 1.0000e-04\n",
      "Epoch 24/100\n",
      "41/41 [==============================] - 0s 7ms/step - loss: 12.3945 - mae: 1.6152 - val_loss: 10.5938 - val_mae: 1.1358 - lr: 1.0000e-04\n",
      "Epoch 25/100\n",
      "41/41 [==============================] - 0s 6ms/step - loss: 12.0861 - mae: 1.5504 - val_loss: 10.3422 - val_mae: 1.0748 - lr: 1.0000e-04\n",
      "Epoch 26/100\n",
      "41/41 [==============================] - 0s 7ms/step - loss: 11.8602 - mae: 1.5093 - val_loss: 10.1184 - val_mae: 1.0196 - lr: 1.0000e-04\n",
      "Epoch 27/100\n",
      "41/41 [==============================] - 0s 6ms/step - loss: 11.5033 - mae: 1.4278 - val_loss: 9.9252 - val_mae: 0.9761 - lr: 1.0000e-04\n",
      "Epoch 28/100\n",
      "41/41 [==============================] - 0s 5ms/step - loss: 11.3517 - mae: 1.3829 - val_loss: 9.7447 - val_mae: 0.9317 - lr: 1.0000e-04\n",
      "Epoch 29/100\n",
      "41/41 [==============================] - 0s 6ms/step - loss: 11.0908 - mae: 1.3354 - val_loss: 9.5946 - val_mae: 0.8983 - lr: 1.0000e-04\n",
      "Epoch 30/100\n",
      "41/41 [==============================] - 0s 6ms/step - loss: 10.8926 - mae: 1.2976 - val_loss: 9.4582 - val_mae: 0.8701 - lr: 1.0000e-04\n",
      "Epoch 31/100\n",
      "41/41 [==============================] - 0s 6ms/step - loss: 10.7741 - mae: 1.2614 - val_loss: 9.3318 - val_mae: 0.8421 - lr: 1.0000e-04\n",
      "Epoch 32/100\n",
      "41/41 [==============================] - 0s 5ms/step - loss: 10.6223 - mae: 1.2428 - val_loss: 9.2246 - val_mae: 0.8199 - lr: 1.0000e-04\n",
      "Epoch 33/100\n",
      "41/41 [==============================] - 0s 7ms/step - loss: 10.5229 - mae: 1.2265 - val_loss: 9.1295 - val_mae: 0.8005 - lr: 1.0000e-04\n",
      "Epoch 34/100\n",
      "41/41 [==============================] - 0s 7ms/step - loss: 10.3404 - mae: 1.1944 - val_loss: 9.0365 - val_mae: 0.7819 - lr: 1.0000e-04\n",
      "Epoch 35/100\n",
      "41/41 [==============================] - 0s 6ms/step - loss: 10.2657 - mae: 1.1650 - val_loss: 8.9603 - val_mae: 0.7690 - lr: 1.0000e-04\n",
      "Epoch 36/100\n",
      "41/41 [==============================] - 0s 7ms/step - loss: 10.1800 - mae: 1.1529 - val_loss: 8.8979 - val_mae: 0.7595 - lr: 1.0000e-04\n",
      "Epoch 37/100\n",
      "41/41 [==============================] - 0s 6ms/step - loss: 9.9853 - mae: 1.1257 - val_loss: 8.8201 - val_mae: 0.7449 - lr: 1.0000e-04\n",
      "Epoch 38/100\n",
      "41/41 [==============================] - 0s 6ms/step - loss: 9.9466 - mae: 1.1170 - val_loss: 8.7488 - val_mae: 0.7338 - lr: 1.0000e-04\n",
      "Epoch 39/100\n",
      "41/41 [==============================] - 0s 6ms/step - loss: 9.8555 - mae: 1.1129 - val_loss: 8.6872 - val_mae: 0.7274 - lr: 1.0000e-04\n",
      "Epoch 40/100\n",
      "41/41 [==============================] - 0s 6ms/step - loss: 9.7851 - mae: 1.0970 - val_loss: 8.6300 - val_mae: 0.7204 - lr: 1.0000e-04\n",
      "Epoch 41/100\n",
      "41/41 [==============================] - 0s 5ms/step - loss: 9.7267 - mae: 1.0834 - val_loss: 8.5731 - val_mae: 0.7163 - lr: 1.0000e-04\n",
      "Epoch 42/100\n",
      "41/41 [==============================] - 0s 6ms/step - loss: 9.6735 - mae: 1.0816 - val_loss: 8.5191 - val_mae: 0.7119 - lr: 1.0000e-04\n",
      "Epoch 43/100\n",
      "41/41 [==============================] - 0s 7ms/step - loss: 9.5674 - mae: 1.0696 - val_loss: 8.4620 - val_mae: 0.7043 - lr: 1.0000e-04\n",
      "Epoch 44/100\n",
      "41/41 [==============================] - 0s 6ms/step - loss: 9.4452 - mae: 1.0463 - val_loss: 8.4113 - val_mae: 0.7025 - lr: 1.0000e-04\n",
      "Epoch 45/100\n",
      "41/41 [==============================] - 0s 7ms/step - loss: 9.4561 - mae: 1.0576 - val_loss: 8.3673 - val_mae: 0.7017 - lr: 1.0000e-04\n",
      "Epoch 46/100\n",
      "41/41 [==============================] - 0s 6ms/step - loss: 9.4669 - mae: 1.0741 - val_loss: 8.3245 - val_mae: 0.7002 - lr: 1.0000e-04\n",
      "Epoch 47/100\n",
      "41/41 [==============================] - 0s 7ms/step - loss: 9.3389 - mae: 1.0523 - val_loss: 8.2781 - val_mae: 0.7013 - lr: 1.0000e-04\n",
      "Epoch 48/100\n",
      "41/41 [==============================] - 0s 5ms/step - loss: 9.2557 - mae: 1.0406 - val_loss: 8.2315 - val_mae: 0.6983 - lr: 1.0000e-04\n",
      "Epoch 49/100\n",
      "41/41 [==============================] - 0s 7ms/step - loss: 9.2087 - mae: 1.0276 - val_loss: 8.1854 - val_mae: 0.6950 - lr: 1.0000e-04\n",
      "Epoch 50/100\n",
      "41/41 [==============================] - 0s 5ms/step - loss: 9.1677 - mae: 1.0400 - val_loss: 8.1393 - val_mae: 0.6925 - lr: 1.0000e-04\n",
      "Epoch 51/100\n",
      "41/41 [==============================] - 0s 6ms/step - loss: 9.0662 - mae: 1.0166 - val_loss: 8.0934 - val_mae: 0.6890 - lr: 1.0000e-04\n",
      "Epoch 52/100\n",
      "41/41 [==============================] - 0s 7ms/step - loss: 9.0707 - mae: 1.0307 - val_loss: 8.0427 - val_mae: 0.6860 - lr: 1.0000e-04\n",
      "Epoch 53/100\n",
      "41/41 [==============================] - 0s 6ms/step - loss: 8.9759 - mae: 1.0110 - val_loss: 7.9986 - val_mae: 0.6836 - lr: 1.0000e-04\n",
      "Epoch 54/100\n",
      "41/41 [==============================] - 0s 7ms/step - loss: 8.9312 - mae: 1.0084 - val_loss: 7.9514 - val_mae: 0.6836 - lr: 1.0000e-04\n",
      "Epoch 55/100\n",
      "41/41 [==============================] - 0s 6ms/step - loss: 8.8350 - mae: 1.0064 - val_loss: 7.9070 - val_mae: 0.6835 - lr: 1.0000e-04\n",
      "Epoch 56/100\n",
      "41/41 [==============================] - 0s 7ms/step - loss: 8.8099 - mae: 1.0023 - val_loss: 7.8630 - val_mae: 0.6824 - lr: 1.0000e-04\n",
      "Epoch 57/100\n",
      "41/41 [==============================] - 0s 6ms/step - loss: 8.8263 - mae: 1.0242 - val_loss: 7.8233 - val_mae: 0.6801 - lr: 1.0000e-04\n",
      "Epoch 58/100\n",
      "41/41 [==============================] - 0s 7ms/step - loss: 8.6525 - mae: 0.9806 - val_loss: 7.7810 - val_mae: 0.6771 - lr: 1.0000e-04\n",
      "Epoch 59/100\n",
      "41/41 [==============================] - 0s 7ms/step - loss: 8.7056 - mae: 1.0087 - val_loss: 7.7417 - val_mae: 0.6796 - lr: 1.0000e-04\n",
      "Epoch 60/100\n",
      "41/41 [==============================] - 0s 6ms/step - loss: 8.5745 - mae: 0.9853 - val_loss: 7.6986 - val_mae: 0.6792 - lr: 1.0000e-04\n",
      "Epoch 61/100\n",
      "41/41 [==============================] - 0s 7ms/step - loss: 8.5031 - mae: 0.9709 - val_loss: 7.6556 - val_mae: 0.6765 - lr: 1.0000e-04\n",
      "Epoch 62/100\n",
      "41/41 [==============================] - 0s 7ms/step - loss: 8.4525 - mae: 0.9662 - val_loss: 7.6133 - val_mae: 0.6739 - lr: 1.0000e-04\n",
      "Epoch 63/100\n",
      "41/41 [==============================] - 0s 6ms/step - loss: 8.5499 - mae: 1.0209 - val_loss: 7.5666 - val_mae: 0.6729 - lr: 1.0000e-04\n",
      "Epoch 64/100\n",
      "41/41 [==============================] - 0s 7ms/step - loss: 8.5117 - mae: 1.0066 - val_loss: 7.5202 - val_mae: 0.6723 - lr: 1.0000e-04\n",
      "Epoch 65/100\n",
      "41/41 [==============================] - 0s 5ms/step - loss: 8.3361 - mae: 0.9781 - val_loss: 7.4748 - val_mae: 0.6704 - lr: 1.0000e-04\n",
      "Epoch 66/100\n",
      "41/41 [==============================] - 0s 6ms/step - loss: 8.2731 - mae: 0.9571 - val_loss: 7.4334 - val_mae: 0.6693 - lr: 1.0000e-04\n",
      "Epoch 67/100\n",
      "41/41 [==============================] - 0s 5ms/step - loss: 8.2283 - mae: 0.9673 - val_loss: 7.3908 - val_mae: 0.6651 - lr: 1.0000e-04\n",
      "Epoch 68/100\n",
      "41/41 [==============================] - 0s 6ms/step - loss: 8.1115 - mae: 0.9354 - val_loss: 7.3460 - val_mae: 0.6625 - lr: 1.0000e-04\n",
      "Epoch 69/100\n",
      "41/41 [==============================] - 0s 7ms/step - loss: 8.1822 - mae: 0.9717 - val_loss: 7.3058 - val_mae: 0.6611 - lr: 1.0000e-04\n",
      "Epoch 70/100\n",
      "41/41 [==============================] - 0s 6ms/step - loss: 8.1507 - mae: 0.9785 - val_loss: 7.2669 - val_mae: 0.6618 - lr: 1.0000e-04\n",
      "Epoch 71/100\n",
      "41/41 [==============================] - 0s 7ms/step - loss: 8.0999 - mae: 0.9746 - val_loss: 7.2241 - val_mae: 0.6621 - lr: 1.0000e-04\n",
      "Epoch 72/100\n",
      "41/41 [==============================] - 0s 6ms/step - loss: 7.9708 - mae: 0.9484 - val_loss: 7.1826 - val_mae: 0.6604 - lr: 1.0000e-04\n",
      "Epoch 73/100\n",
      "41/41 [==============================] - 0s 7ms/step - loss: 7.8809 - mae: 0.9271 - val_loss: 7.1462 - val_mae: 0.6616 - lr: 1.0000e-04\n",
      "Epoch 74/100\n",
      "41/41 [==============================] - 0s 6ms/step - loss: 7.8477 - mae: 0.9362 - val_loss: 7.1041 - val_mae: 0.6580 - lr: 1.0000e-04\n",
      "Epoch 75/100\n",
      "41/41 [==============================] - 0s 6ms/step - loss: 7.8899 - mae: 0.9601 - val_loss: 7.0596 - val_mae: 0.6559 - lr: 1.0000e-04\n",
      "Epoch 76/100\n",
      "41/41 [==============================] - 0s 6ms/step - loss: 7.8285 - mae: 0.9502 - val_loss: 7.0145 - val_mae: 0.6532 - lr: 1.0000e-04\n",
      "Epoch 77/100\n",
      "41/41 [==============================] - 0s 6ms/step - loss: 7.7727 - mae: 0.9391 - val_loss: 6.9774 - val_mae: 0.6542 - lr: 1.0000e-04\n",
      "Epoch 78/100\n",
      "41/41 [==============================] - 0s 5ms/step - loss: 7.7209 - mae: 0.9396 - val_loss: 6.9327 - val_mae: 0.6506 - lr: 1.0000e-04\n",
      "Epoch 79/100\n",
      "41/41 [==============================] - 0s 6ms/step - loss: 7.6986 - mae: 0.9408 - val_loss: 6.8915 - val_mae: 0.6489 - lr: 1.0000e-04\n",
      "Epoch 80/100\n",
      "41/41 [==============================] - 0s 7ms/step - loss: 7.6742 - mae: 0.9510 - val_loss: 6.8486 - val_mae: 0.6488 - lr: 1.0000e-04\n",
      "Epoch 81/100\n",
      "41/41 [==============================] - 0s 6ms/step - loss: 7.6437 - mae: 0.9624 - val_loss: 6.8130 - val_mae: 0.6480 - lr: 1.0000e-04\n",
      "Epoch 82/100\n",
      "41/41 [==============================] - 0s 7ms/step - loss: 7.5727 - mae: 0.9348 - val_loss: 6.7755 - val_mae: 0.6488 - lr: 1.0000e-04\n",
      "Epoch 83/100\n",
      "41/41 [==============================] - 0s 6ms/step - loss: 7.5093 - mae: 0.9271 - val_loss: 6.7327 - val_mae: 0.6458 - lr: 1.0000e-04\n",
      "Epoch 84/100\n",
      "41/41 [==============================] - 0s 7ms/step - loss: 7.4164 - mae: 0.9221 - val_loss: 6.6931 - val_mae: 0.6441 - lr: 1.0000e-04\n",
      "Epoch 85/100\n",
      "41/41 [==============================] - 0s 6ms/step - loss: 7.3796 - mae: 0.9016 - val_loss: 6.6520 - val_mae: 0.6438 - lr: 1.0000e-04\n",
      "Epoch 86/100\n",
      "41/41 [==============================] - 0s 7ms/step - loss: 7.4057 - mae: 0.9407 - val_loss: 6.6117 - val_mae: 0.6429 - lr: 1.0000e-04\n",
      "Epoch 87/100\n",
      "41/41 [==============================] - 0s 6ms/step - loss: 7.3169 - mae: 0.9220 - val_loss: 6.5715 - val_mae: 0.6413 - lr: 1.0000e-04\n",
      "Epoch 88/100\n",
      "41/41 [==============================] - 0s 7ms/step - loss: 7.2927 - mae: 0.9282 - val_loss: 6.5362 - val_mae: 0.6400 - lr: 1.0000e-04\n",
      "Epoch 89/100\n",
      "41/41 [==============================] - 0s 6ms/step - loss: 7.2765 - mae: 0.9366 - val_loss: 6.5005 - val_mae: 0.6411 - lr: 1.0000e-04\n",
      "Epoch 90/100\n",
      "41/41 [==============================] - 0s 7ms/step - loss: 7.2246 - mae: 0.9285 - val_loss: 6.4564 - val_mae: 0.6378 - lr: 1.0000e-04\n",
      "Epoch 91/100\n",
      "41/41 [==============================] - 0s 6ms/step - loss: 7.1900 - mae: 0.9234 - val_loss: 6.4174 - val_mae: 0.6351 - lr: 1.0000e-04\n",
      "Epoch 92/100\n",
      "41/41 [==============================] - 0s 7ms/step - loss: 7.1496 - mae: 0.9276 - val_loss: 6.3786 - val_mae: 0.6367 - lr: 1.0000e-04\n",
      "Epoch 93/100\n",
      "41/41 [==============================] - 0s 7ms/step - loss: 7.1210 - mae: 0.9220 - val_loss: 6.3446 - val_mae: 0.6384 - lr: 1.0000e-04\n",
      "Epoch 94/100\n",
      "41/41 [==============================] - 0s 6ms/step - loss: 7.1234 - mae: 0.9387 - val_loss: 6.2993 - val_mae: 0.6322 - lr: 1.0000e-04\n",
      "Epoch 95/100\n",
      "41/41 [==============================] - 0s 7ms/step - loss: 7.0060 - mae: 0.9182 - val_loss: 6.2600 - val_mae: 0.6328 - lr: 1.0000e-04\n",
      "Epoch 96/100\n",
      "41/41 [==============================] - 0s 6ms/step - loss: 6.9908 - mae: 0.9232 - val_loss: 6.2217 - val_mae: 0.6317 - lr: 1.0000e-04\n",
      "Epoch 97/100\n",
      "41/41 [==============================] - 0s 7ms/step - loss: 6.8998 - mae: 0.8998 - val_loss: 6.1828 - val_mae: 0.6295 - lr: 1.0000e-04\n",
      "Epoch 98/100\n",
      "41/41 [==============================] - 0s 6ms/step - loss: 6.9044 - mae: 0.9136 - val_loss: 6.1494 - val_mae: 0.6302 - lr: 1.0000e-04\n",
      "Epoch 99/100\n",
      "41/41 [==============================] - 0s 7ms/step - loss: 6.7668 - mae: 0.8809 - val_loss: 6.1072 - val_mae: 0.6281 - lr: 1.0000e-04\n",
      "Epoch 100/100\n",
      "41/41 [==============================] - 0s 5ms/step - loss: 6.7841 - mae: 0.8946 - val_loss: 6.0723 - val_mae: 0.6277 - lr: 1.0000e-04\n"
     ]
    }
   ],
   "source": [
    "model = Sequential([\n",
    "        Dense(128, activation='relu', input_shape=(X_train.shape[1],), kernel_regularizer=l1_l2(l1=0.005, l2=0.01)),\n",
    "        BatchNormalization(),\n",
    "        Dropout(0.5),\n",
    "        Dense(64, activation='relu', kernel_regularizer=l1_l2(l2=0.01)),\n",
    "        BatchNormalization(),\n",
    "        Dropout(0.3),\n",
    "        Dense(32, activation='relu'),\n",
    "        Dense(1)\n",
    "    ])\n",
    "\n",
    "# Компиляция модели\n",
    "optimizer = Adam(\n",
    "        learning_rate=0.0001,\n",
    "        beta_1=0.9,\n",
    "        beta_2=0.999,\n",
    "        epsilon=1e-07,\n",
    "        amsgrad=True\n",
    "    )\n",
    "model.compile(optimizer=optimizer, loss='mse', metrics=['mae'])\n",
    "\n",
    "# Ранняя остановка\n",
    "early_stopping = EarlyStopping(\n",
    "    monitor='val_loss',\n",
    "    patience=15,\n",
    "    restore_best_weights=True\n",
    ")\n",
    "\n",
    "reduce_lr = ReduceLROnPlateau(\n",
    "    monitor='val_loss',\n",
    "    factor=0.5,\n",
    "    patience=5,\n",
    "    min_lr=1e-6\n",
    ")"
   ]
  },
  {
   "cell_type": "markdown",
   "id": "e350c0df",
   "metadata": {},
   "source": [
    "### Обучение модели"
   ]
  },
  {
   "cell_type": "code",
   "execution_count": null,
   "id": "17f97ab0",
   "metadata": {},
   "outputs": [],
   "source": [
    "history = model.fit(\n",
    "    X_train, y_train,\n",
    "    validation_split=0.2,\n",
    "    epochs=100,\n",
    "    batch_size=64,\n",
    "    callbacks=[early_stopping, reduce_lr],\n",
    "    verbose=1\n",
    ")"
   ]
  },
  {
   "cell_type": "markdown",
   "id": "593832bd",
   "metadata": {},
   "source": [
    "### Интерпретация результатов"
   ]
  },
  {
   "cell_type": "code",
   "execution_count": 21,
   "id": "bdce03bb",
   "metadata": {},
   "outputs": [
    {
     "data": {
      "image/png": "[encoded data removed]",
      "text/plain": [
       "<Figure size 864x360 with 2 Axes>"
      ]
     },
     "metadata": {
      "needs_background": "light"
     },
     "output_type": "display_data"
    }
   ],
   "source": [
    "# Графики потерь\n",
    "plt.figure(figsize=(12, 5))\n",
    "plt.subplot(1, 2, 1)\n",
    "plt.plot(history.history['loss'], label='Train Loss')\n",
    "plt.plot(history.history['val_loss'], label='Validation Loss')\n",
    "plt.title('Loss Evolution')\n",
    "plt.legend()\n",
    "\n",
    "plt.subplot(1, 2, 2)\n",
    "plt.plot(history.history['mae'], label='Train MAE')\n",
    "plt.plot(history.history['val_mae'], label='Validation MAE')\n",
    "plt.title('MAE Evolution')\n",
    "plt.legend()\n",
    "plt.show()"
   ]
  },
  {
   "cell_type": "code",
   "execution_count": 34,
   "id": "f61ec9ee",
   "metadata": {},
   "outputs": [
    {
     "name": "stdout",
     "output_type": "stream",
     "text": [
      "R² Score: 0.7782\n",
      "MAE: 0.6310\n",
      "Отличный результат! Модель хорошо объясняет вариативность данных.\n"
     ]
    }
   ],
   "source": [
    "def evaluate_model(model, X_test, y_test):\n",
    "    y_pred = model.predict(X_test)\n",
    "    # Метрики\n",
    "    r2 = r2_score(y_test, y_pred)\n",
    "    mae = mean_absolute_error(y_test, y_pred)\n",
    "\n",
    "    print(f\"R² Score: {r2:.4f}\")\n",
    "    print(f\"MAE: {mae:.4f}\")\n",
    "\n",
    "evaluate_model(model, X_test, y_test)\n",
    "# Интерпретация результатов\n",
    "if r2 > 0.6:\n",
    "    print(\"Отличный результат! Модель хорошо объясняет вариативность данных.\")\n",
    "elif r2 > 0.4:\n",
    "    print(\"Хороший результат. Есть потенциал для улучшений.\")\n",
    "else:\n",
    "    print(\"Результат требует доработки. Рекомендуется:\")\n",
    "    print(\"- Добавить больше признаков\")\n",
    "    print(\"- Попробовать другие алгоритмы (например, Gradient Boosting)\")\n",
    "    print(\"- Увеличить размер выборки\")"
   ]
  },
  {
   "cell_type": "markdown",
   "id": "f6f583d6",
   "metadata": {},
   "source": [
    "### График предсказаний vs реальных значений"
   ]
  },
  {
   "cell_type": "code",
   "execution_count": 38,
   "id": "9bd821e2",
   "metadata": {},
   "outputs": [
    {
     "data": {
      "image/png": "[encoded data removed]",
      "text/plain": [
       "<Figure size 576x432 with 1 Axes>"
      ]
     },
     "metadata": {
      "needs_background": "light"
     },
     "output_type": "display_data"
    }
   ],
   "source": [
    "plt.figure(figsize=(8, 6))\n",
    "plt.scatter(y_test, y_pred, alpha=0.5)\n",
    "plt.plot([min(y_test), max(y_test)], [min(y_test), max(y_test)], '--r')\n",
    "plt.xlabel('Actual Quality')\n",
    "plt.ylabel('Predicted Quality')\n",
    "plt.title('Actual vs Predicted Wine Quality')\n",
    "plt.show()"
   ]
  },
  {
   "cell_type": "markdown",
   "id": "54f895c0",
   "metadata": {},
   "source": [
    "## Итоги"
   ]
  },
  {
   "cell_type": "markdown",
   "id": "2ef4d3d6",
   "metadata": {},
   "source": [
    "- Загрузка и анализ данных\n",
    "\n",
    "    - Загрузка данных из UCI Machine Learning Repository\n",
    "\n",
    "    - Визуализация распределения целевой переменной\n",
    "\n",
    "    - Анализ корреляций между признаками\n",
    "\n",
    "    - Проверка на выбросы\n",
    "\n",
    "- Предобработка данных\n",
    "\n",
    "    - Удаление выбросов на основе научных границ\n",
    "\n",
    "    - Создание новых признаков:\n",
    "\n",
    "        - acid_ratio - баланс кислот\n",
    "\n",
    "        - sulfur_balance - соотношение SO₂\n",
    "\n",
    "        - alcohol_to_acid - отношение алкоголя к кислотности\n",
    "\n",
    "    - Балансировка данных с помощью SMOTE\n",
    "\n",
    "    - Нормализация с использованием RobustScaler\n",
    "\n",
    "- Построение модели\n",
    "\n",
    "    - Архитектура нейронной сети:\n",
    "\n",
    "         - 3 скрытых слоя (128-64-32 нейрона)\n",
    "\n",
    "         - BatchNormalization и Dropout для регуляризации\n",
    "\n",
    "         - L1/L2 регуляризация\n",
    "\n",
    "    - Оптимизатор Adam с динамическим learning rate\n",
    "\n",
    "    - Callbacks:\n",
    "\n",
    "        - EarlyStopping\n",
    "\n",
    "        - ReduceLROnPlateau\n",
    "\n",
    "- Оценка модели\n",
    "\n",
    "    - Метрики:\n",
    "\n",
    "        - R² (коэффициент детерминации)\n",
    "\n",
    "        - MAE (средняя абсолютная ошибка)\n",
    "\n",
    "    - Визуализация:\n",
    "\n",
    "        - Графики обучения (loss/MAE)\n",
    "\n",
    "        - Сравнение предсказаний с реальными значениями"
   ]
  },
  {
   "cell_type": "markdown",
   "id": "0e4ba46a",
   "metadata": {},
   "source": [
    "## Рекомендации по улучшению"
   ]
  },
  {
   "cell_type": "markdown",
   "id": "0e4f7647",
   "metadata": {},
   "source": [
    "1) Добавьте больше признаков (например, сорт винограда);\n",
    "\n",
    "2) Попробуйте другие алгоритмы (Gradient Boosting);\n",
    "\n",
    "3) Увеличьте размер выборки;\n",
    "\n",
    "4) Экспериментируйте с архитектурой сети."
   ]
  },
  {
   "cell_type": "code",
   "execution_count": null,
   "id": "813e9a3b",
   "metadata": {},
   "outputs": [],
   "source": []
  }
 ],
 "metadata": {
  "ExecuteTimeLog": [
   {
    "duration": 1752,
    "start_time": "2025-06-24T15:40:07.427Z"
   },
   {
    "duration": 1389,
    "start_time": "2025-06-24T15:40:17.386Z"
   },
   {
    "duration": 975,
    "start_time": "2025-06-24T15:41:11.439Z"
   },
   {
    "duration": 998,
    "start_time": "2025-06-24T15:41:19.057Z"
   },
   {
    "duration": 27,
    "start_time": "2025-06-24T15:41:21.723Z"
   },
   {
    "duration": 13,
    "start_time": "2025-06-24T15:41:30.780Z"
   },
   {
    "duration": 50,
    "start_time": "2025-06-25T13:05:25.065Z"
   },
   {
    "duration": 46,
    "start_time": "2025-06-25T13:05:39.696Z"
   },
   {
    "duration": 1590,
    "start_time": "2025-06-25T13:05:43.152Z"
   },
   {
    "duration": 1178,
    "start_time": "2025-06-25T13:05:47.549Z"
   },
   {
    "duration": 11,
    "start_time": "2025-06-25T13:05:49.622Z"
   },
   {
    "duration": 162,
    "start_time": "2025-06-25T13:05:51.528Z"
   },
   {
    "duration": 1238,
    "start_time": "2025-06-25T13:55:58.024Z"
   },
   {
    "duration": 690,
    "start_time": "2025-06-25T14:02:39.127Z"
   },
   {
    "duration": 80,
    "start_time": "2025-06-25T14:02:51.557Z"
   },
   {
    "duration": 625,
    "start_time": "2025-06-25T14:02:59.130Z"
   },
   {
    "duration": 7,
    "start_time": "2025-06-25T14:08:30.463Z"
   },
   {
    "duration": 6,
    "start_time": "2025-06-25T14:08:41.121Z"
   },
   {
    "duration": 313,
    "start_time": "2025-06-25T14:09:05.570Z"
   },
   {
    "duration": 9,
    "start_time": "2025-06-25T14:25:43.616Z"
   },
   {
    "duration": 6,
    "start_time": "2025-06-25T20:18:46.245Z"
   },
   {
    "duration": 6,
    "start_time": "2025-06-25T20:19:22.437Z"
   },
   {
    "duration": 6,
    "start_time": "2025-06-25T20:19:31.321Z"
   },
   {
    "duration": 4,
    "start_time": "2025-06-25T20:19:37.382Z"
   },
   {
    "duration": 8,
    "start_time": "2025-06-25T20:19:48.028Z"
   },
   {
    "duration": 20,
    "start_time": "2025-06-25T20:20:07.376Z"
   },
   {
    "duration": 11,
    "start_time": "2025-06-25T20:20:18.819Z"
   },
   {
    "duration": 6,
    "start_time": "2025-06-25T20:21:26.010Z"
   },
   {
    "duration": 4,
    "start_time": "2025-06-25T20:21:30.842Z"
   },
   {
    "duration": 8,
    "start_time": "2025-06-25T20:22:06.286Z"
   },
   {
    "duration": 23,
    "start_time": "2025-06-25T20:26:34.756Z"
   },
   {
    "duration": 22,
    "start_time": "2025-06-25T20:26:47.032Z"
   },
   {
    "duration": 12,
    "start_time": "2025-06-25T20:26:59.886Z"
   },
   {
    "duration": 23,
    "start_time": "2025-06-25T20:27:05.038Z"
   },
   {
    "duration": 4,
    "start_time": "2025-06-25T20:27:18.852Z"
   },
   {
    "duration": 21,
    "start_time": "2025-06-25T20:27:27.173Z"
   },
   {
    "duration": 4,
    "start_time": "2025-06-25T20:27:30.252Z"
   },
   {
    "duration": 22,
    "start_time": "2025-06-25T20:27:40.860Z"
   },
   {
    "duration": 11,
    "start_time": "2025-06-25T20:27:49.402Z"
   },
   {
    "duration": 22,
    "start_time": "2025-06-25T20:27:54.831Z"
   },
   {
    "duration": 22,
    "start_time": "2025-06-25T20:28:08.723Z"
   },
   {
    "duration": 8,
    "start_time": "2025-06-25T20:28:14.858Z"
   },
   {
    "duration": 51,
    "start_time": "2025-06-26T12:17:27.658Z"
   },
   {
    "duration": 1547,
    "start_time": "2025-06-26T12:17:34.852Z"
   },
   {
    "duration": 1532,
    "start_time": "2025-06-26T12:17:36.401Z"
   },
   {
    "duration": 12,
    "start_time": "2025-06-26T12:17:37.934Z"
   },
   {
    "duration": 152,
    "start_time": "2025-06-26T12:17:37.948Z"
   },
   {
    "duration": 1264,
    "start_time": "2025-06-26T12:17:38.102Z"
   },
   {
    "duration": 6,
    "start_time": "2025-06-26T12:17:39.368Z"
   },
   {
    "duration": 11,
    "start_time": "2025-06-26T12:17:39.376Z"
   },
   {
    "duration": 391,
    "start_time": "2025-06-26T12:17:39.389Z"
   },
   {
    "duration": 6,
    "start_time": "2025-06-26T12:17:39.782Z"
   },
   {
    "duration": 144,
    "start_time": "2025-06-26T12:17:39.790Z"
   },
   {
    "duration": 30,
    "start_time": "2025-06-26T12:17:39.936Z"
   },
   {
    "duration": 7,
    "start_time": "2025-06-26T12:17:39.967Z"
   },
   {
    "duration": 26,
    "start_time": "2025-06-26T12:17:39.976Z"
   },
   {
    "duration": 26,
    "start_time": "2025-06-26T12:17:40.004Z"
   },
   {
    "duration": 6,
    "start_time": "2025-06-26T12:21:27.829Z"
   },
   {
    "duration": 22,
    "start_time": "2025-06-26T12:21:28.675Z"
   },
   {
    "duration": 5,
    "start_time": "2025-06-26T12:21:39.211Z"
   },
   {
    "duration": 8,
    "start_time": "2025-06-26T12:21:40.029Z"
   },
   {
    "duration": 5,
    "start_time": "2025-06-26T12:21:48.761Z"
   },
   {
    "duration": 8,
    "start_time": "2025-06-26T12:21:49.494Z"
   },
   {
    "duration": 24,
    "start_time": "2025-06-26T12:21:50.576Z"
   },
   {
    "duration": 8,
    "start_time": "2025-06-26T12:21:51.499Z"
   },
   {
    "duration": 6,
    "start_time": "2025-06-26T12:22:07.124Z"
   },
   {
    "duration": 22,
    "start_time": "2025-06-26T12:22:07.562Z"
   },
   {
    "duration": 5,
    "start_time": "2025-06-26T12:22:08.718Z"
   },
   {
    "duration": 8,
    "start_time": "2025-06-26T12:22:10.361Z"
   },
   {
    "duration": 7,
    "start_time": "2025-06-26T12:22:45.741Z"
   },
   {
    "duration": 20,
    "start_time": "2025-06-26T12:22:46.470Z"
   },
   {
    "duration": 1472,
    "start_time": "2025-06-26T12:23:09.503Z"
   },
   {
    "duration": 977,
    "start_time": "2025-06-26T12:23:10.977Z"
   },
   {
    "duration": 13,
    "start_time": "2025-06-26T12:23:11.956Z"
   },
   {
    "duration": 153,
    "start_time": "2025-06-26T12:23:11.971Z"
   },
   {
    "duration": 1172,
    "start_time": "2025-06-26T12:23:12.126Z"
   },
   {
    "duration": 7,
    "start_time": "2025-06-26T12:23:13.299Z"
   },
   {
    "duration": 42,
    "start_time": "2025-06-26T12:23:13.307Z"
   },
   {
    "duration": 395,
    "start_time": "2025-06-26T12:23:13.351Z"
   },
   {
    "duration": 8,
    "start_time": "2025-06-26T12:23:13.748Z"
   },
   {
    "duration": 43,
    "start_time": "2025-06-26T12:23:13.758Z"
   },
   {
    "duration": 9,
    "start_time": "2025-06-26T12:25:40.576Z"
   },
   {
    "duration": 3,
    "start_time": "2025-06-26T12:25:45.811Z"
   },
   {
    "duration": 4,
    "start_time": "2025-06-26T12:25:51.504Z"
   },
   {
    "duration": 1536,
    "start_time": "2025-06-26T12:32:17.857Z"
   },
   {
    "duration": 3093,
    "start_time": "2025-06-26T12:32:25.881Z"
   },
   {
    "duration": 991,
    "start_time": "2025-06-26T12:32:28.976Z"
   },
   {
    "duration": 12,
    "start_time": "2025-06-26T12:32:29.969Z"
   },
   {
    "duration": 152,
    "start_time": "2025-06-26T12:32:29.983Z"
   },
   {
    "duration": 1173,
    "start_time": "2025-06-26T12:32:30.137Z"
   },
   {
    "duration": 6,
    "start_time": "2025-06-26T12:32:31.312Z"
   },
   {
    "duration": 22,
    "start_time": "2025-06-26T12:32:31.320Z"
   },
   {
    "duration": 322,
    "start_time": "2025-06-26T12:32:31.343Z"
   },
   {
    "duration": 7,
    "start_time": "2025-06-26T12:32:31.667Z"
   },
   {
    "duration": 187,
    "start_time": "2025-06-26T12:32:31.677Z"
   },
   {
    "duration": 133,
    "start_time": "2025-06-26T12:32:31.865Z"
   },
   {
    "duration": 3,
    "start_time": "2025-06-26T12:32:32.000Z"
   },
   {
    "duration": 6,
    "start_time": "2025-06-26T12:32:32.004Z"
   },
   {
    "duration": 12498,
    "start_time": "2025-06-26T12:41:52.964Z"
   },
   {
    "duration": 257,
    "start_time": "2025-06-26T12:43:19.096Z"
   },
   {
    "duration": 3,
    "start_time": "2025-06-26T12:57:30.859Z"
   },
   {
    "duration": 4,
    "start_time": "2025-06-26T12:57:32.747Z"
   },
   {
    "duration": 26,
    "start_time": "2025-06-26T12:57:58.194Z"
   },
   {
    "duration": 23,
    "start_time": "2025-06-26T12:58:06.458Z"
   },
   {
    "duration": 3047,
    "start_time": "2025-06-26T13:01:54.654Z"
   },
   {
    "duration": 1171,
    "start_time": "2025-06-26T13:01:57.705Z"
   },
   {
    "duration": 12,
    "start_time": "2025-06-26T13:01:58.877Z"
   },
   {
    "duration": 140,
    "start_time": "2025-06-26T13:01:58.890Z"
   },
   {
    "duration": 1187,
    "start_time": "2025-06-26T13:01:59.031Z"
   },
   {
    "duration": 8,
    "start_time": "2025-06-26T13:02:00.220Z"
   },
   {
    "duration": 35,
    "start_time": "2025-06-26T13:02:00.230Z"
   },
   {
    "duration": 337,
    "start_time": "2025-06-26T13:02:00.268Z"
   },
   {
    "duration": 3,
    "start_time": "2025-06-26T13:02:00.607Z"
   },
   {
    "duration": 23,
    "start_time": "2025-06-26T13:02:00.614Z"
   },
   {
    "duration": 58,
    "start_time": "2025-06-26T13:02:00.639Z"
   },
   {
    "duration": 5,
    "start_time": "2025-06-26T13:02:00.699Z"
   },
   {
    "duration": 37,
    "start_time": "2025-06-26T13:02:00.706Z"
   },
   {
    "duration": 27,
    "start_time": "2025-06-26T13:02:00.746Z"
   },
   {
    "duration": 15,
    "start_time": "2025-06-26T13:02:00.774Z"
   },
   {
    "duration": 12,
    "start_time": "2025-06-26T13:02:00.791Z"
   },
   {
    "duration": 13354,
    "start_time": "2025-06-26T13:02:00.805Z"
   },
   {
    "duration": 299,
    "start_time": "2025-06-26T13:02:14.161Z"
   },
   {
    "duration": 3391,
    "start_time": "2025-06-26T13:04:57.168Z"
   },
   {
    "duration": 296,
    "start_time": "2025-06-26T13:05:02.678Z"
   },
   {
    "duration": 3086,
    "start_time": "2025-06-26T13:09:01.211Z"
   },
   {
    "duration": 1007,
    "start_time": "2025-06-26T13:09:04.300Z"
   },
   {
    "duration": 12,
    "start_time": "2025-06-26T13:09:05.308Z"
   },
   {
    "duration": 157,
    "start_time": "2025-06-26T13:09:05.322Z"
   },
   {
    "duration": 1269,
    "start_time": "2025-06-26T13:09:05.481Z"
   },
   {
    "duration": 7,
    "start_time": "2025-06-26T13:09:06.751Z"
   },
   {
    "duration": 150,
    "start_time": "2025-06-26T13:09:06.759Z"
   },
   {
    "duration": 506,
    "start_time": "2025-06-26T13:09:06.910Z"
   },
   {
    "duration": 3,
    "start_time": "2025-06-26T13:09:07.418Z"
   },
   {
    "duration": 25,
    "start_time": "2025-06-26T13:09:07.423Z"
   },
   {
    "duration": 40,
    "start_time": "2025-06-26T13:09:07.449Z"
   },
   {
    "duration": 5,
    "start_time": "2025-06-26T13:09:07.491Z"
   },
   {
    "duration": 37,
    "start_time": "2025-06-26T13:09:07.497Z"
   },
   {
    "duration": 7,
    "start_time": "2025-06-26T13:09:07.535Z"
   },
   {
    "duration": 10,
    "start_time": "2025-06-26T13:09:07.544Z"
   },
   {
    "duration": 6,
    "start_time": "2025-06-26T13:09:07.556Z"
   },
   {
    "duration": 3991,
    "start_time": "2025-06-26T13:09:07.564Z"
   },
   {
    "duration": 482,
    "start_time": "2025-06-26T13:09:11.556Z"
   },
   {
    "duration": 3192,
    "start_time": "2025-06-26T13:10:09.425Z"
   },
   {
    "duration": 293,
    "start_time": "2025-06-26T13:10:15.869Z"
   },
   {
    "duration": 1572,
    "start_time": "2025-06-26T13:10:59.379Z"
   },
   {
    "duration": 293,
    "start_time": "2025-06-26T13:11:01.791Z"
   },
   {
    "duration": 3127,
    "start_time": "2025-06-26T13:16:54.410Z"
   },
   {
    "duration": 962,
    "start_time": "2025-06-26T13:16:57.539Z"
   },
   {
    "duration": 12,
    "start_time": "2025-06-26T13:16:58.502Z"
   },
   {
    "duration": 146,
    "start_time": "2025-06-26T13:16:58.516Z"
   },
   {
    "duration": 1223,
    "start_time": "2025-06-26T13:16:58.663Z"
   },
   {
    "duration": 7,
    "start_time": "2025-06-26T13:16:59.887Z"
   },
   {
    "duration": 23,
    "start_time": "2025-06-26T13:16:59.895Z"
   },
   {
    "duration": 309,
    "start_time": "2025-06-26T13:16:59.919Z"
   },
   {
    "duration": 3,
    "start_time": "2025-06-26T13:17:00.230Z"
   },
   {
    "duration": 68,
    "start_time": "2025-06-26T13:17:00.235Z"
   },
   {
    "duration": 35,
    "start_time": "2025-06-26T13:17:00.305Z"
   },
   {
    "duration": 5,
    "start_time": "2025-06-26T13:17:00.341Z"
   },
   {
    "duration": 61,
    "start_time": "2025-06-26T13:17:00.348Z"
   },
   {
    "duration": 24,
    "start_time": "2025-06-26T13:17:00.411Z"
   },
   {
    "duration": 74,
    "start_time": "2025-06-26T13:17:00.437Z"
   },
   {
    "duration": 43,
    "start_time": "2025-06-26T13:17:00.512Z"
   },
   {
    "duration": 44,
    "start_time": "2025-06-26T13:17:00.556Z"
   },
   {
    "duration": 348,
    "start_time": "2025-06-26T13:17:00.601Z"
   },
   {
    "duration": 0,
    "start_time": "2025-06-26T13:17:00.951Z"
   },
   {
    "duration": 3007,
    "start_time": "2025-06-26T13:17:54.945Z"
   },
   {
    "duration": 967,
    "start_time": "2025-06-26T13:17:57.954Z"
   },
   {
    "duration": 11,
    "start_time": "2025-06-26T13:17:58.923Z"
   },
   {
    "duration": 153,
    "start_time": "2025-06-26T13:17:58.936Z"
   },
   {
    "duration": 1203,
    "start_time": "2025-06-26T13:17:59.091Z"
   },
   {
    "duration": 7,
    "start_time": "2025-06-26T13:18:00.296Z"
   },
   {
    "duration": 90,
    "start_time": "2025-06-26T13:18:00.304Z"
   },
   {
    "duration": 325,
    "start_time": "2025-06-26T13:18:00.395Z"
   },
   {
    "duration": 3,
    "start_time": "2025-06-26T13:18:00.721Z"
   },
   {
    "duration": 25,
    "start_time": "2025-06-26T13:18:00.725Z"
   },
   {
    "duration": 34,
    "start_time": "2025-06-26T13:18:00.752Z"
   },
   {
    "duration": 10,
    "start_time": "2025-06-26T13:18:00.788Z"
   },
   {
    "duration": 37,
    "start_time": "2025-06-26T13:18:00.800Z"
   },
   {
    "duration": 4,
    "start_time": "2025-06-26T13:18:00.840Z"
   },
   {
    "duration": 47,
    "start_time": "2025-06-26T13:18:00.846Z"
   },
   {
    "duration": 17,
    "start_time": "2025-06-26T13:18:00.894Z"
   },
   {
    "duration": 14,
    "start_time": "2025-06-26T13:18:00.912Z"
   },
   {
    "duration": 341,
    "start_time": "2025-06-26T13:18:00.928Z"
   },
   {
    "duration": 0,
    "start_time": "2025-06-26T13:18:01.271Z"
   },
   {
    "duration": 118,
    "start_time": "2025-06-26T13:19:27.289Z"
   },
   {
    "duration": 88,
    "start_time": "2025-06-26T13:20:34.585Z"
   },
   {
    "duration": 90,
    "start_time": "2025-06-26T13:20:47.964Z"
   },
   {
    "duration": 3120,
    "start_time": "2025-06-26T13:20:58.220Z"
   },
   {
    "duration": 991,
    "start_time": "2025-06-26T13:21:01.342Z"
   },
   {
    "duration": 11,
    "start_time": "2025-06-26T13:21:02.337Z"
   },
   {
    "duration": 158,
    "start_time": "2025-06-26T13:21:02.350Z"
   },
   {
    "duration": 1261,
    "start_time": "2025-06-26T13:21:02.509Z"
   },
   {
    "duration": 6,
    "start_time": "2025-06-26T13:21:03.772Z"
   },
   {
    "duration": 20,
    "start_time": "2025-06-26T13:21:03.780Z"
   },
   {
    "duration": 344,
    "start_time": "2025-06-26T13:21:03.802Z"
   },
   {
    "duration": 3,
    "start_time": "2025-06-26T13:21:04.147Z"
   },
   {
    "duration": 24,
    "start_time": "2025-06-26T13:21:04.151Z"
   },
   {
    "duration": 154,
    "start_time": "2025-06-26T13:21:04.177Z"
   },
   {
    "duration": 5,
    "start_time": "2025-06-26T13:21:04.332Z"
   },
   {
    "duration": 37,
    "start_time": "2025-06-26T13:21:04.340Z"
   },
   {
    "duration": 6,
    "start_time": "2025-06-26T13:21:04.379Z"
   },
   {
    "duration": 22,
    "start_time": "2025-06-26T13:21:04.387Z"
   },
   {
    "duration": 10,
    "start_time": "2025-06-26T13:21:04.411Z"
   },
   {
    "duration": 37,
    "start_time": "2025-06-26T13:21:04.423Z"
   },
   {
    "duration": 94,
    "start_time": "2025-06-26T13:21:04.462Z"
   },
   {
    "duration": 0,
    "start_time": "2025-06-26T13:21:04.557Z"
   },
   {
    "duration": 282,
    "start_time": "2025-06-26T13:22:07.395Z"
   },
   {
    "duration": 4,
    "start_time": "2025-06-26T13:22:40.275Z"
   },
   {
    "duration": 3097,
    "start_time": "2025-06-26T13:22:46.386Z"
   },
   {
    "duration": 957,
    "start_time": "2025-06-26T13:22:49.485Z"
   },
   {
    "duration": 12,
    "start_time": "2025-06-26T13:22:50.443Z"
   },
   {
    "duration": 155,
    "start_time": "2025-06-26T13:22:50.458Z"
   },
   {
    "duration": 1183,
    "start_time": "2025-06-26T13:22:50.615Z"
   },
   {
    "duration": 8,
    "start_time": "2025-06-26T13:22:51.800Z"
   },
   {
    "duration": 34,
    "start_time": "2025-06-26T13:22:51.810Z"
   },
   {
    "duration": 316,
    "start_time": "2025-06-26T13:22:51.846Z"
   },
   {
    "duration": 3,
    "start_time": "2025-06-26T13:22:52.163Z"
   },
   {
    "duration": 59,
    "start_time": "2025-06-26T13:22:52.168Z"
   },
   {
    "duration": 89,
    "start_time": "2025-06-26T13:22:52.229Z"
   },
   {
    "duration": 10,
    "start_time": "2025-06-26T13:22:52.319Z"
   },
   {
    "duration": 51,
    "start_time": "2025-06-26T13:22:52.330Z"
   },
   {
    "duration": 5,
    "start_time": "2025-06-26T13:22:52.382Z"
   },
   {
    "duration": 44,
    "start_time": "2025-06-26T13:22:52.389Z"
   },
   {
    "duration": 33,
    "start_time": "2025-06-26T13:22:52.434Z"
   },
   {
    "duration": 38,
    "start_time": "2025-06-26T13:22:52.468Z"
   },
   {
    "duration": 460,
    "start_time": "2025-06-26T13:22:52.508Z"
   },
   {
    "duration": 0,
    "start_time": "2025-06-26T13:22:52.969Z"
   },
   {
    "duration": 2995,
    "start_time": "2025-06-26T13:23:09.358Z"
   },
   {
    "duration": 996,
    "start_time": "2025-06-26T13:23:12.355Z"
   },
   {
    "duration": 12,
    "start_time": "2025-06-26T13:23:13.352Z"
   },
   {
    "duration": 153,
    "start_time": "2025-06-26T13:23:13.366Z"
   },
   {
    "duration": 1221,
    "start_time": "2025-06-26T13:23:13.520Z"
   },
   {
    "duration": 6,
    "start_time": "2025-06-26T13:23:14.743Z"
   },
   {
    "duration": 19,
    "start_time": "2025-06-26T13:23:14.751Z"
   },
   {
    "duration": 349,
    "start_time": "2025-06-26T13:23:14.772Z"
   },
   {
    "duration": 3,
    "start_time": "2025-06-26T13:23:15.122Z"
   },
   {
    "duration": 101,
    "start_time": "2025-06-26T13:23:15.127Z"
   },
   {
    "duration": 65,
    "start_time": "2025-06-26T13:23:15.229Z"
   },
   {
    "duration": 14,
    "start_time": "2025-06-26T13:23:15.295Z"
   },
   {
    "duration": 55,
    "start_time": "2025-06-26T13:23:15.311Z"
   },
   {
    "duration": 5,
    "start_time": "2025-06-26T13:23:15.367Z"
   },
   {
    "duration": 48,
    "start_time": "2025-06-26T13:23:15.373Z"
   },
   {
    "duration": 37,
    "start_time": "2025-06-26T13:23:15.423Z"
   },
   {
    "duration": 33,
    "start_time": "2025-06-26T13:23:15.462Z"
   },
   {
    "duration": 2854,
    "start_time": "2025-06-26T13:23:15.497Z"
   },
   {
    "duration": 304,
    "start_time": "2025-06-26T13:23:18.353Z"
   },
   {
    "duration": 172,
    "start_time": "2025-06-26T16:00:45.507Z"
   },
   {
    "duration": 218,
    "start_time": "2025-06-26T16:01:33.300Z"
   },
   {
    "duration": 3090,
    "start_time": "2025-06-26T16:02:05.579Z"
   },
   {
    "duration": 1372,
    "start_time": "2025-06-26T16:02:08.671Z"
   },
   {
    "duration": 11,
    "start_time": "2025-06-26T16:02:10.045Z"
   },
   {
    "duration": 173,
    "start_time": "2025-06-26T16:02:10.058Z"
   },
   {
    "duration": 1193,
    "start_time": "2025-06-26T16:02:10.233Z"
   },
   {
    "duration": 6,
    "start_time": "2025-06-26T16:02:11.427Z"
   },
   {
    "duration": 19,
    "start_time": "2025-06-26T16:02:11.434Z"
   },
   {
    "duration": 307,
    "start_time": "2025-06-26T16:02:11.455Z"
   },
   {
    "duration": 3,
    "start_time": "2025-06-26T16:02:11.764Z"
   },
   {
    "duration": 16,
    "start_time": "2025-06-26T16:02:11.769Z"
   },
   {
    "duration": 43,
    "start_time": "2025-06-26T16:02:11.786Z"
   },
   {
    "duration": 4,
    "start_time": "2025-06-26T16:02:11.831Z"
   },
   {
    "duration": 76,
    "start_time": "2025-06-26T16:02:11.837Z"
   },
   {
    "duration": 8,
    "start_time": "2025-06-26T16:02:11.914Z"
   },
   {
    "duration": 3,
    "start_time": "2025-06-26T16:02:11.923Z"
   },
   {
    "duration": 37,
    "start_time": "2025-06-26T16:02:11.927Z"
   },
   {
    "duration": 2858,
    "start_time": "2025-06-26T16:02:11.965Z"
   },
   {
    "duration": 299,
    "start_time": "2025-06-26T16:02:14.824Z"
   },
   {
    "duration": 233,
    "start_time": "2025-06-26T16:02:15.125Z"
   },
   {
    "duration": 10733,
    "start_time": "2025-06-26T16:02:42.114Z"
   },
   {
    "duration": 314,
    "start_time": "2025-06-26T16:02:52.849Z"
   },
   {
    "duration": 13259,
    "start_time": "2025-06-26T16:03:13.301Z"
   },
   {
    "duration": 256,
    "start_time": "2025-06-26T16:03:37.839Z"
   },
   {
    "duration": 11491,
    "start_time": "2025-06-26T16:03:45.929Z"
   },
   {
    "duration": 294,
    "start_time": "2025-06-26T16:04:06.016Z"
   },
   {
    "duration": 3043,
    "start_time": "2025-06-26T16:04:21.321Z"
   },
   {
    "duration": 1011,
    "start_time": "2025-06-26T16:04:24.366Z"
   },
   {
    "duration": 12,
    "start_time": "2025-06-26T16:04:25.378Z"
   },
   {
    "duration": 148,
    "start_time": "2025-06-26T16:04:25.392Z"
   },
   {
    "duration": 1223,
    "start_time": "2025-06-26T16:04:25.543Z"
   },
   {
    "duration": 8,
    "start_time": "2025-06-26T16:04:26.768Z"
   },
   {
    "duration": 7,
    "start_time": "2025-06-26T16:04:26.778Z"
   },
   {
    "duration": 318,
    "start_time": "2025-06-26T16:04:26.787Z"
   },
   {
    "duration": 3,
    "start_time": "2025-06-26T16:04:27.107Z"
   },
   {
    "duration": 110,
    "start_time": "2025-06-26T16:04:27.112Z"
   },
   {
    "duration": 96,
    "start_time": "2025-06-26T16:04:27.223Z"
   },
   {
    "duration": 4,
    "start_time": "2025-06-26T16:04:27.321Z"
   },
   {
    "duration": 36,
    "start_time": "2025-06-26T16:04:27.327Z"
   },
   {
    "duration": 7,
    "start_time": "2025-06-26T16:04:27.365Z"
   },
   {
    "duration": 10,
    "start_time": "2025-06-26T16:04:27.374Z"
   },
   {
    "duration": 6,
    "start_time": "2025-06-26T16:04:27.385Z"
   },
   {
    "duration": 13325,
    "start_time": "2025-06-26T16:04:27.392Z"
   },
   {
    "duration": 295,
    "start_time": "2025-06-26T16:04:40.720Z"
   },
   {
    "duration": 383,
    "start_time": "2025-06-26T16:04:41.017Z"
   },
   {
    "duration": 214,
    "start_time": "2025-06-26T16:04:49.032Z"
   },
   {
    "duration": 3009,
    "start_time": "2025-06-26T16:05:36.147Z"
   },
   {
    "duration": 981,
    "start_time": "2025-06-26T16:05:39.158Z"
   },
   {
    "duration": 12,
    "start_time": "2025-06-26T16:05:40.140Z"
   },
   {
    "duration": 165,
    "start_time": "2025-06-26T16:05:40.153Z"
   },
   {
    "duration": 1185,
    "start_time": "2025-06-26T16:05:40.321Z"
   },
   {
    "duration": 6,
    "start_time": "2025-06-26T16:05:41.508Z"
   },
   {
    "duration": 8,
    "start_time": "2025-06-26T16:05:41.515Z"
   },
   {
    "duration": 324,
    "start_time": "2025-06-26T16:05:41.525Z"
   },
   {
    "duration": 6,
    "start_time": "2025-06-26T16:05:41.851Z"
   },
   {
    "duration": 36,
    "start_time": "2025-06-26T16:05:41.858Z"
   },
   {
    "duration": 9,
    "start_time": "2025-06-26T16:05:41.905Z"
   },
   {
    "duration": 3,
    "start_time": "2025-06-26T16:05:41.916Z"
   },
   {
    "duration": 7,
    "start_time": "2025-06-26T16:05:41.921Z"
   },
   {
    "duration": 13320,
    "start_time": "2025-06-26T16:05:41.931Z"
   },
   {
    "duration": 286,
    "start_time": "2025-06-26T16:05:55.252Z"
   },
   {
    "duration": 3043,
    "start_time": "2025-06-26T16:08:14.030Z"
   },
   {
    "duration": 15833,
    "start_time": "2025-06-26T16:08:17.075Z"
   },
   {
    "duration": 13,
    "start_time": "2025-06-26T16:08:32.909Z"
   },
   {
    "duration": 152,
    "start_time": "2025-06-26T16:08:32.923Z"
   },
   {
    "duration": 1234,
    "start_time": "2025-06-26T16:08:33.076Z"
   },
   {
    "duration": 8,
    "start_time": "2025-06-26T16:08:34.312Z"
   },
   {
    "duration": 42,
    "start_time": "2025-06-26T16:08:34.322Z"
   },
   {
    "duration": 311,
    "start_time": "2025-06-26T16:08:34.365Z"
   },
   {
    "duration": 4,
    "start_time": "2025-06-26T16:08:34.678Z"
   },
   {
    "duration": 39,
    "start_time": "2025-06-26T16:08:34.685Z"
   },
   {
    "duration": 8,
    "start_time": "2025-06-26T16:08:34.725Z"
   },
   {
    "duration": 9,
    "start_time": "2025-06-26T16:08:34.734Z"
   },
   {
    "duration": 9,
    "start_time": "2025-06-26T16:08:34.745Z"
   },
   {
    "duration": 7080,
    "start_time": "2025-06-26T16:08:34.756Z"
   },
   {
    "duration": 277,
    "start_time": "2025-06-26T16:08:41.838Z"
   },
   {
    "duration": 2985,
    "start_time": "2025-06-26T16:09:11.360Z"
   },
   {
    "duration": 1072,
    "start_time": "2025-06-26T16:09:14.347Z"
   },
   {
    "duration": 11,
    "start_time": "2025-06-26T16:09:15.420Z"
   },
   {
    "duration": 157,
    "start_time": "2025-06-26T16:09:15.433Z"
   },
   {
    "duration": 1227,
    "start_time": "2025-06-26T16:09:15.592Z"
   },
   {
    "duration": 7,
    "start_time": "2025-06-26T16:09:16.820Z"
   },
   {
    "duration": 7,
    "start_time": "2025-06-26T16:09:16.829Z"
   },
   {
    "duration": 326,
    "start_time": "2025-06-26T16:09:16.838Z"
   },
   {
    "duration": 5,
    "start_time": "2025-06-26T16:09:17.166Z"
   },
   {
    "duration": 137,
    "start_time": "2025-06-26T16:09:17.173Z"
   },
   {
    "duration": 7,
    "start_time": "2025-06-26T16:09:17.312Z"
   },
   {
    "duration": 5,
    "start_time": "2025-06-26T16:09:17.321Z"
   },
   {
    "duration": 7,
    "start_time": "2025-06-26T16:09:17.327Z"
   },
   {
    "duration": 13186,
    "start_time": "2025-06-26T16:09:17.335Z"
   },
   {
    "duration": 273,
    "start_time": "2025-06-26T16:09:30.523Z"
   },
   {
    "duration": 236,
    "start_time": "2025-06-26T16:09:36.148Z"
   },
   {
    "duration": 1880,
    "start_time": "2025-06-26T16:11:21.421Z"
   },
   {
    "duration": 5,
    "start_time": "2025-06-26T16:11:30.381Z"
   },
   {
    "duration": 5,
    "start_time": "2025-06-26T16:13:15.873Z"
   },
   {
    "duration": 3046,
    "start_time": "2025-06-26T16:18:29.121Z"
   },
   {
    "duration": 975,
    "start_time": "2025-06-26T16:18:32.168Z"
   },
   {
    "duration": 12,
    "start_time": "2025-06-26T16:18:33.144Z"
   },
   {
    "duration": 329,
    "start_time": "2025-06-26T16:18:33.158Z"
   },
   {
    "duration": 1225,
    "start_time": "2025-06-26T16:18:33.489Z"
   },
   {
    "duration": 6,
    "start_time": "2025-06-26T16:18:34.716Z"
   },
   {
    "duration": 26,
    "start_time": "2025-06-26T16:18:34.723Z"
   },
   {
    "duration": 338,
    "start_time": "2025-06-26T16:18:34.750Z"
   },
   {
    "duration": 4,
    "start_time": "2025-06-26T16:18:35.089Z"
   },
   {
    "duration": 28,
    "start_time": "2025-06-26T16:18:35.104Z"
   },
   {
    "duration": 59,
    "start_time": "2025-06-26T16:18:35.134Z"
   },
   {
    "duration": 141,
    "start_time": "2025-06-26T16:18:35.195Z"
   },
   {
    "duration": 286,
    "start_time": "2025-06-26T16:18:35.338Z"
   },
   {
    "duration": 0,
    "start_time": "2025-06-26T16:18:35.625Z"
   },
   {
    "duration": 0,
    "start_time": "2025-06-26T16:18:35.627Z"
   },
   {
    "duration": 0,
    "start_time": "2025-06-26T16:18:35.628Z"
   },
   {
    "duration": 0,
    "start_time": "2025-06-26T16:18:35.629Z"
   },
   {
    "duration": 0,
    "start_time": "2025-06-26T16:18:35.631Z"
   },
   {
    "duration": 0,
    "start_time": "2025-06-26T16:18:35.632Z"
   },
   {
    "duration": 3488,
    "start_time": "2025-06-26T16:18:54.392Z"
   },
   {
    "duration": 0,
    "start_time": "2025-06-26T16:18:57.883Z"
   },
   {
    "duration": 0,
    "start_time": "2025-06-26T16:18:57.884Z"
   },
   {
    "duration": 0,
    "start_time": "2025-06-26T16:18:57.885Z"
   },
   {
    "duration": 0,
    "start_time": "2025-06-26T16:18:57.886Z"
   },
   {
    "duration": 0,
    "start_time": "2025-06-26T16:18:57.888Z"
   },
   {
    "duration": 0,
    "start_time": "2025-06-26T16:18:57.889Z"
   },
   {
    "duration": 0,
    "start_time": "2025-06-26T16:18:57.905Z"
   },
   {
    "duration": 1,
    "start_time": "2025-06-26T16:18:57.906Z"
   },
   {
    "duration": 0,
    "start_time": "2025-06-26T16:18:57.908Z"
   },
   {
    "duration": 0,
    "start_time": "2025-06-26T16:18:57.908Z"
   },
   {
    "duration": 0,
    "start_time": "2025-06-26T16:18:57.909Z"
   },
   {
    "duration": 0,
    "start_time": "2025-06-26T16:18:57.910Z"
   },
   {
    "duration": 0,
    "start_time": "2025-06-26T16:18:57.911Z"
   },
   {
    "duration": 0,
    "start_time": "2025-06-26T16:18:57.913Z"
   },
   {
    "duration": 0,
    "start_time": "2025-06-26T16:18:57.914Z"
   },
   {
    "duration": 0,
    "start_time": "2025-06-26T16:18:57.915Z"
   },
   {
    "duration": 0,
    "start_time": "2025-06-26T16:18:57.916Z"
   },
   {
    "duration": 0,
    "start_time": "2025-06-26T16:18:57.917Z"
   },
   {
    "duration": 8150,
    "start_time": "2025-06-26T16:20:23.532Z"
   },
   {
    "duration": 2497,
    "start_time": "2025-06-26T16:20:40.283Z"
   },
   {
    "duration": 3001,
    "start_time": "2025-06-26T16:20:42.783Z"
   },
   {
    "duration": 992,
    "start_time": "2025-06-26T16:20:45.786Z"
   },
   {
    "duration": 11,
    "start_time": "2025-06-26T16:20:46.780Z"
   },
   {
    "duration": 144,
    "start_time": "2025-06-26T16:20:46.793Z"
   },
   {
    "duration": 1179,
    "start_time": "2025-06-26T16:20:46.939Z"
   },
   {
    "duration": 6,
    "start_time": "2025-06-26T16:20:48.120Z"
   },
   {
    "duration": 6,
    "start_time": "2025-06-26T16:20:48.127Z"
   },
   {
    "duration": 318,
    "start_time": "2025-06-26T16:20:48.135Z"
   },
   {
    "duration": 5,
    "start_time": "2025-06-26T16:20:48.455Z"
   },
   {
    "duration": 32,
    "start_time": "2025-06-26T16:20:48.461Z"
   },
   {
    "duration": 7,
    "start_time": "2025-06-26T16:20:48.505Z"
   },
   {
    "duration": 97,
    "start_time": "2025-06-26T16:20:48.513Z"
   },
   {
    "duration": 22,
    "start_time": "2025-06-26T16:20:48.612Z"
   },
   {
    "duration": 8,
    "start_time": "2025-06-26T16:20:48.636Z"
   },
   {
    "duration": 285,
    "start_time": "2025-06-26T16:20:48.645Z"
   },
   {
    "duration": 0,
    "start_time": "2025-06-26T16:20:48.932Z"
   },
   {
    "duration": 0,
    "start_time": "2025-06-26T16:20:48.933Z"
   },
   {
    "duration": 0,
    "start_time": "2025-06-26T16:20:48.934Z"
   },
   {
    "duration": 0,
    "start_time": "2025-06-26T16:20:48.936Z"
   },
   {
    "duration": 2480,
    "start_time": "2025-06-26T16:21:17.227Z"
   },
   {
    "duration": 2961,
    "start_time": "2025-06-26T16:21:19.709Z"
   },
   {
    "duration": 1016,
    "start_time": "2025-06-26T16:21:22.671Z"
   },
   {
    "duration": 12,
    "start_time": "2025-06-26T16:21:23.689Z"
   },
   {
    "duration": 143,
    "start_time": "2025-06-26T16:21:23.703Z"
   },
   {
    "duration": 1251,
    "start_time": "2025-06-26T16:21:23.847Z"
   },
   {
    "duration": 7,
    "start_time": "2025-06-26T16:21:25.099Z"
   },
   {
    "duration": 25,
    "start_time": "2025-06-26T16:21:25.107Z"
   },
   {
    "duration": 317,
    "start_time": "2025-06-26T16:21:25.134Z"
   },
   {
    "duration": 5,
    "start_time": "2025-06-26T16:21:25.454Z"
   },
   {
    "duration": 46,
    "start_time": "2025-06-26T16:21:25.460Z"
   },
   {
    "duration": 6,
    "start_time": "2025-06-26T16:21:25.508Z"
   },
   {
    "duration": 11,
    "start_time": "2025-06-26T16:21:25.516Z"
   },
   {
    "duration": 23,
    "start_time": "2025-06-26T16:21:25.529Z"
   },
   {
    "duration": 5,
    "start_time": "2025-06-26T16:21:25.553Z"
   },
   {
    "duration": 13,
    "start_time": "2025-06-26T16:21:25.560Z"
   },
   {
    "duration": 310,
    "start_time": "2025-06-26T16:21:25.575Z"
   },
   {
    "duration": 0,
    "start_time": "2025-06-26T16:21:25.886Z"
   },
   {
    "duration": 0,
    "start_time": "2025-06-26T16:21:25.887Z"
   },
   {
    "duration": 0,
    "start_time": "2025-06-26T16:21:25.889Z"
   },
   {
    "duration": 25,
    "start_time": "2025-06-26T16:22:12.474Z"
   },
   {
    "duration": 22,
    "start_time": "2025-06-26T16:22:20.214Z"
   },
   {
    "duration": 27027,
    "start_time": "2025-06-26T16:23:44.033Z"
   },
   {
    "duration": 255,
    "start_time": "2025-06-26T16:24:14.215Z"
   },
   {
    "duration": 314,
    "start_time": "2025-06-26T16:24:16.372Z"
   },
   {
    "duration": 472,
    "start_time": "2025-06-26T16:24:22.033Z"
   },
   {
    "duration": 65,
    "start_time": "2025-06-26T16:24:59.809Z"
   },
   {
    "duration": 328,
    "start_time": "2025-06-26T16:25:48.571Z"
   },
   {
    "duration": 68,
    "start_time": "2025-06-26T16:26:10.446Z"
   },
   {
    "duration": 6,
    "start_time": "2025-06-26T16:26:50.847Z"
   },
   {
    "duration": 6,
    "start_time": "2025-06-26T16:27:11.467Z"
   },
   {
    "duration": 323,
    "start_time": "2025-06-26T16:27:37.254Z"
   },
   {
    "duration": 2,
    "start_time": "2025-06-26T16:32:10.599Z"
   },
   {
    "duration": 2,
    "start_time": "2025-06-26T16:33:05.112Z"
   },
   {
    "duration": 4,
    "start_time": "2025-06-26T16:36:52.022Z"
   },
   {
    "duration": 21,
    "start_time": "2025-06-26T16:37:16.748Z"
   },
   {
    "duration": 71,
    "start_time": "2025-06-26T16:40:20.436Z"
   },
   {
    "duration": 142,
    "start_time": "2025-06-26T16:40:52.154Z"
   },
   {
    "duration": 141,
    "start_time": "2025-06-26T16:41:47.819Z"
   },
   {
    "duration": 142,
    "start_time": "2025-06-26T16:41:53.332Z"
   },
   {
    "duration": 141,
    "start_time": "2025-06-26T16:43:46.120Z"
   },
   {
    "duration": 2,
    "start_time": "2025-06-26T16:44:00.788Z"
   }
  ],
  "kernelspec": {
   "display_name": "Python 3 (ipykernel)",
   "language": "python",
   "name": "python3"
  },
  "language_info": {
   "codemirror_mode": {
    "name": "ipython",
    "version": 3
   },
   "file_extension": ".py",
   "mimetype": "text/x-python",
   "name": "python",
   "nbconvert_exporter": "python",
   "pygments_lexer": "ipython3",
   "version": "3.9.5"
  },
  "toc": {
   "base_numbering": 1,
   "nav_menu": {},
   "number_sections": true,
   "sideBar": true,
   "skip_h1_title": true,
   "title_cell": "Table of Contents",
   "title_sidebar": "Contents",
   "toc_cell": false,
   "toc_position": {},
   "toc_section_display": true,
   "toc_window_display": true
  }
 },
 "nbformat": 4,
 "nbformat_minor": 5
}
